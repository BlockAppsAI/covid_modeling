{
 "cells": [
  {
   "cell_type": "code",
   "execution_count": 11,
   "metadata": {},
   "outputs": [],
   "source": [
    "from api_consumer import DataLoader\n",
    "import numpy as np"
   ]
  },
  {
   "cell_type": "code",
   "execution_count": 2,
   "metadata": {},
   "outputs": [],
   "source": [
    "dl = DataLoader()"
   ]
  },
  {
   "cell_type": "code",
   "execution_count": 3,
   "metadata": {},
   "outputs": [
    {
     "data": {
      "text/plain": [
       "\u001b[0;31mType:\u001b[0m        DataLoader\n",
       "\u001b[0;31mString form:\u001b[0m <api_consumer.DataLoader object at 0x7f408068e310>\n",
       "\u001b[0;31mFile:\u001b[0m        ~/src/pysrc/covid_modeling/api_consumer.py\n",
       "\u001b[0;31mDocstring:\u001b[0m  \n",
       "Implements methods to fetch data from https://api.covid19india.org/ for \n",
       "states/country, timeseries/daily as pandas DataFrame or a dictionary of \n",
       "DataFrames.\n",
       "\n",
       "Once instantiated, it makes *one call* to the API server, and caches entire \n",
       "timeseries data or entire daily data in the object itself. Once you've constructed the\n",
       "desired DataFrames, consider 'del <object>' to save on memory.\n",
       "\n",
       "Or you can get the dictionary of all DataFrames using the property \n",
       "\n",
       "LIMITATIONS:\n",
       "    1. 2021-07-16: Only gets the statewise data\n",
       "TODO: Get and process distric-wise data.\n",
       "\n",
       "Examples:\n",
       ">>> # Instantiate\n",
       ">>> dl = DataLoader()\n"
      ]
     },
     "metadata": {},
     "output_type": "display_data"
    }
   ],
   "source": [
    "dl?"
   ]
  },
  {
   "cell_type": "code",
   "execution_count": 4,
   "metadata": {},
   "outputs": [],
   "source": [
    "ind_data = dl.data(state_codes='TT')"
   ]
  },
  {
   "cell_type": "code",
   "execution_count": 5,
   "metadata": {},
   "outputs": [
    {
     "data": {
      "text/plain": [
       "\u001b[0;31mSignature:\u001b[0m\n",
       "\u001b[0mdl\u001b[0m\u001b[0;34m.\u001b[0m\u001b[0mdata\u001b[0m\u001b[0;34m(\u001b[0m\u001b[0;34m\u001b[0m\n",
       "\u001b[0;34m\u001b[0m    \u001b[0mstate_codes\u001b[0m\u001b[0;34m:\u001b[0m \u001b[0mUnion\u001b[0m\u001b[0;34m[\u001b[0m\u001b[0mstr\u001b[0m\u001b[0;34m,\u001b[0m \u001b[0mList\u001b[0m\u001b[0;34m[\u001b[0m\u001b[0mstr\u001b[0m\u001b[0;34m]\u001b[0m\u001b[0;34m]\u001b[0m \u001b[0;34m=\u001b[0m \u001b[0;34m'TT'\u001b[0m\u001b[0;34m,\u001b[0m\u001b[0;34m\u001b[0m\n",
       "\u001b[0;34m\u001b[0m    \u001b[0mdata_type\u001b[0m\u001b[0;34m:\u001b[0m \u001b[0mstr\u001b[0m \u001b[0;34m=\u001b[0m \u001b[0;34m'timeseries'\u001b[0m\u001b[0;34m,\u001b[0m\u001b[0;34m\u001b[0m\n",
       "\u001b[0;34m\u001b[0m\u001b[0;34m)\u001b[0m \u001b[0;34m->\u001b[0m \u001b[0mUnion\u001b[0m\u001b[0;34m[\u001b[0m\u001b[0mpandas\u001b[0m\u001b[0;34m.\u001b[0m\u001b[0mcore\u001b[0m\u001b[0;34m.\u001b[0m\u001b[0mframe\u001b[0m\u001b[0;34m.\u001b[0m\u001b[0mDataFrame\u001b[0m\u001b[0;34m,\u001b[0m \u001b[0mDict\u001b[0m\u001b[0;34m[\u001b[0m\u001b[0mstr\u001b[0m\u001b[0;34m,\u001b[0m \u001b[0mpandas\u001b[0m\u001b[0;34m.\u001b[0m\u001b[0mcore\u001b[0m\u001b[0;34m.\u001b[0m\u001b[0mframe\u001b[0m\u001b[0;34m.\u001b[0m\u001b[0mDataFrame\u001b[0m\u001b[0;34m]\u001b[0m\u001b[0;34m]\u001b[0m\u001b[0;34m\u001b[0m\u001b[0;34m\u001b[0m\u001b[0m\n",
       "\u001b[0;31mDocstring:\u001b[0m\n",
       "Get the data as a DataFrame or a dictionary of DataFrames\n",
       "\n",
       "Parameters:\n",
       "state_codes: Union[str, Lits(str)] -- Required state data for given state code \n",
       "             as a string (one state) or as a list of string (multiple states)\n",
       "\n",
       "             if state_codes = 'all', entire data dict is returned. See the method\n",
       "             get_all_timeseries and get_all_daily for compact signature version\n",
       "\n",
       "             if state_codes is a non-empty list of strings, returns the data as dict '\n",
       "             whose keys are the corresponding state codes and the values are the\n",
       "             corresponding DataFrames.\n",
       "\n",
       "             if it is an empty list, an error is raised!\n",
       "\n",
       "             if the list contains some valid and some invalid codes, DataFrames for\n",
       "             only valid codes is returned (as a best effort)\n",
       "\n",
       "             you can find available states codes using the rather premitive search \n",
       "             method: search_state_code\n",
       "data_type: str -- only two flavours are considered: 'timeseries' and 'daily'\n",
       "\u001b[0;31mFile:\u001b[0m      ~/src/pysrc/covid_modeling/api_consumer.py\n",
       "\u001b[0;31mType:\u001b[0m      method\n"
      ]
     },
     "metadata": {},
     "output_type": "display_data"
    }
   ],
   "source": [
    "dl.data?"
   ]
  },
  {
   "cell_type": "code",
   "execution_count": 6,
   "metadata": {},
   "outputs": [
    {
     "data": {
      "text/plain": [
       "Index(['date', 'population', 'delta.confirmed', 'delta7.confirmed',\n",
       "       'total.confirmed', 'delta.recovered', 'delta7.recovered',\n",
       "       'total.recovered', 'delta.deceased', 'delta.tested', 'delta7.deceased',\n",
       "       'delta7.tested', 'total.deceased', 'total.tested', 'delta.other',\n",
       "       'delta7.other', 'total.other', 'delta.vaccinated1',\n",
       "       'delta7.vaccinated1', 'total.vaccinated1', 'delta.vaccinated2',\n",
       "       'delta7.vaccinated2', 'total.vaccinated2'],\n",
       "      dtype='object')"
      ]
     },
     "execution_count": 6,
     "metadata": {},
     "output_type": "execute_result"
    }
   ],
   "source": [
    "ind_data.columns"
   ]
  },
  {
   "cell_type": "code",
   "execution_count": 7,
   "metadata": {},
   "outputs": [
    {
     "data": {
      "application/vnd.jupyter.widget-view+json": {
       "model_id": "f532bb436a75470cb80fd5aa5a758984",
       "version_major": 2,
       "version_minor": 0
      },
      "text/plain": [
       "Canvas(toolbar=Toolbar(toolitems=[('Home', 'Reset original view', 'home', 'home'), ('Back', 'Back to previous …"
      ]
     },
     "metadata": {},
     "output_type": "display_data"
    },
    {
     "data": {
      "text/plain": [
       "<AxesSubplot:title={'center':'India Delta'}>"
      ]
     },
     "execution_count": 7,
     "metadata": {},
     "output_type": "execute_result"
    }
   ],
   "source": [
    "%matplotlib widget\n",
    "ind_data[['delta.vaccinated1', 'delta.vaccinated2', 'delta.confirmed', 'delta.tested']].plot(legend=True, figsize=(15, 6), title=\"India Delta\")"
   ]
  },
  {
   "cell_type": "code",
   "execution_count": 8,
   "metadata": {},
   "outputs": [],
   "source": [
    "ka_data = dl.get_all_timeseries()['KA']"
   ]
  },
  {
   "cell_type": "code",
   "execution_count": 9,
   "metadata": {},
   "outputs": [
    {
     "data": {
      "application/vnd.jupyter.widget-view+json": {
       "model_id": "51afca64eefe4ba687b6a2f3b111afe9",
       "version_major": 2,
       "version_minor": 0
      },
      "text/plain": [
       "Canvas(toolbar=Toolbar(toolitems=[('Home', 'Reset original view', 'home', 'home'), ('Back', 'Back to previous …"
      ]
     },
     "metadata": {},
     "output_type": "display_data"
    },
    {
     "data": {
      "text/plain": [
       "<AxesSubplot:title={'center':'KA Delta'}>"
      ]
     },
     "execution_count": 9,
     "metadata": {},
     "output_type": "execute_result"
    }
   ],
   "source": [
    "%matplotlib widget\n",
    "ka_data[['delta.vaccinated1', 'delta.vaccinated2', 'delta.confirmed', 'delta.tested']].plot(legend=True, figsize=(15, 6), title=\"KA Delta\")"
   ]
  },
  {
   "cell_type": "code",
   "execution_count": 12,
   "metadata": {},
   "outputs": [
    {
     "data": {
      "text/plain": [
       "469   2021-06-21\n",
       "Name: date, dtype: datetime64[ns]"
      ]
     },
     "execution_count": 12,
     "metadata": {},
     "output_type": "execute_result"
    }
   ],
   "source": [
    "ka_data['date'][ka_data['delta.vaccinated1'] == np.max(ka_data['delta.vaccinated1'])]"
   ]
  },
  {
   "cell_type": "code",
   "execution_count": 13,
   "metadata": {},
   "outputs": [
    {
     "data": {
      "text/plain": [
       "478   2021-06-25\n",
       "Name: date, dtype: datetime64[ns]"
      ]
     },
     "execution_count": 13,
     "metadata": {},
     "output_type": "execute_result"
    }
   ],
   "source": [
    "up_data = dl.get_all_timeseries()['UP']\n",
    "up_data['date'][up_data['delta.vaccinated1'] == np.max(up_data['delta.vaccinated1'])]"
   ]
  },
  {
   "cell_type": "code",
   "execution_count": 14,
   "metadata": {},
   "outputs": [
    {
     "data": {
      "application/vnd.jupyter.widget-view+json": {
       "model_id": "15a1506805f74d7aa978053ef928723c",
       "version_major": 2,
       "version_minor": 0
      },
      "text/plain": [
       "Canvas(toolbar=Toolbar(toolitems=[('Home', 'Reset original view', 'home', 'home'), ('Back', 'Back to previous …"
      ]
     },
     "metadata": {},
     "output_type": "display_data"
    },
    {
     "data": {
      "text/plain": [
       "<AxesSubplot:title={'center':'UP Delta'}>"
      ]
     },
     "execution_count": 14,
     "metadata": {},
     "output_type": "execute_result"
    }
   ],
   "source": [
    "%matplotlib widget\n",
    "up_data[['delta.vaccinated1', 'delta.vaccinated2', 'delta.confirmed', 'delta.tested']].plot(legend=True, figsize=(15, 6), title=\"UP Delta\")"
   ]
  },
  {
   "cell_type": "code",
   "execution_count": 15,
   "metadata": {},
   "outputs": [
    {
     "data": {
      "text/plain": [
       "458   2021-06-21\n",
       "Name: date, dtype: datetime64[ns]"
      ]
     },
     "execution_count": 15,
     "metadata": {},
     "output_type": "execute_result"
    }
   ],
   "source": [
    "mp_data = dl.get_all_timeseries()['MP']\n",
    "mp_data['date'][mp_data['delta.vaccinated1'] == np.max(mp_data['delta.vaccinated1'])]"
   ]
  },
  {
   "cell_type": "code",
   "execution_count": 16,
   "metadata": {},
   "outputs": [
    {
     "data": {
      "application/vnd.jupyter.widget-view+json": {
       "model_id": "451ecf000f1f43cdb40b8673bfa1c362",
       "version_major": 2,
       "version_minor": 0
      },
      "text/plain": [
       "Canvas(toolbar=Toolbar(toolitems=[('Home', 'Reset original view', 'home', 'home'), ('Back', 'Back to previous …"
      ]
     },
     "metadata": {},
     "output_type": "display_data"
    },
    {
     "data": {
      "text/plain": [
       "<AxesSubplot:title={'center':'MP Data'}>"
      ]
     },
     "execution_count": 16,
     "metadata": {},
     "output_type": "execute_result"
    }
   ],
   "source": [
    "%matplotlib widget\n",
    "mp_data[['delta.vaccinated1', 'delta.vaccinated2', 'delta.confirmed', 'delta.tested']].plot(legend=True, figsize=(15, 6), title=\"MP Data\")"
   ]
  },
  {
   "cell_type": "code",
   "execution_count": 17,
   "metadata": {},
   "outputs": [
    {
     "data": {
      "text/plain": [
       "410   2021-04-12\n",
       "Name: date, dtype: datetime64[ns]"
      ]
     },
     "execution_count": 17,
     "metadata": {},
     "output_type": "execute_result"
    }
   ],
   "source": [
    "kl_data = dl.get_all_timeseries()['KL']\n",
    "kl_data['date'][kl_data['delta.vaccinated1'] == np.max(kl_data['delta.vaccinated1'])]"
   ]
  },
  {
   "cell_type": "code",
   "execution_count": 18,
   "metadata": {},
   "outputs": [
    {
     "data": {
      "application/vnd.jupyter.widget-view+json": {
       "model_id": "154a92bcf0f64396948c2f7766b89a45",
       "version_major": 2,
       "version_minor": 0
      },
      "text/plain": [
       "Canvas(toolbar=Toolbar(toolitems=[('Home', 'Reset original view', 'home', 'home'), ('Back', 'Back to previous …"
      ]
     },
     "metadata": {},
     "output_type": "display_data"
    },
    {
     "data": {
      "text/plain": [
       "<AxesSubplot:>"
      ]
     },
     "execution_count": 18,
     "metadata": {},
     "output_type": "execute_result"
    }
   ],
   "source": [
    "%matplotlib widget\n",
    "kl_data[['delta.vaccinated1', 'delta.vaccinated2', 'delta.confirmed', 'delta.tested']].plot(legend=True, figsize=(15, 6))"
   ]
  },
  {
   "cell_type": "code",
   "execution_count": null,
   "metadata": {},
   "outputs": [],
   "source": []
  }
 ],
 "metadata": {
  "kernelspec": {
   "display_name": "Python 3 (ipykernel)",
   "language": "python",
   "name": "python3"
  },
  "language_info": {
   "codemirror_mode": {
    "name": "ipython",
    "version": 3
   },
   "file_extension": ".py",
   "mimetype": "text/x-python",
   "name": "python",
   "nbconvert_exporter": "python",
   "pygments_lexer": "ipython3",
   "version": "3.8.8"
  }
 },
 "nbformat": 4,
 "nbformat_minor": 4
}
