{
 "cells": [
  {
   "cell_type": "code",
   "execution_count": 2,
   "metadata": {},
   "outputs": [],
   "source": [
    "import sys\n",
    "sys.path.append('../')\n",
    "from consumer import DataLoader"
   ]
  },
  {
   "cell_type": "code",
   "execution_count": 3,
   "metadata": {},
   "outputs": [],
   "source": [
    "dl = DataLoader()"
   ]
  },
  {
   "cell_type": "code",
   "execution_count": 4,
   "metadata": {},
   "outputs": [
    {
     "data": {
      "text/plain": [
       "\u001b[0;31mType:\u001b[0m        DataLoader\n",
       "\u001b[0;31mString form:\u001b[0m <consumer.api_consumer.DataLoader object at 0x7f50b5ea9340>\n",
       "\u001b[0;31mFile:\u001b[0m        ~/src/pysrc/covid_modeling/src/consumer/api_consumer.py\n",
       "\u001b[0;31mDocstring:\u001b[0m  \n",
       "Implements methods to fetch data from https://api.covid19india.org/ for \n",
       "states/country, timeseries/daily as pandas DataFrame or a dictionary of \n",
       "DataFrames.\n",
       "\n",
       "Once instantiated, it makes *one call* to the API server, and caches entire \n",
       "timeseries data or entire daily data in the object itself. Once you've constructed the\n",
       "desired DataFrames, consider 'del <object>' to save on memory.\n",
       "\n",
       "Or you can get the dictionary of all DataFrames using the property \n",
       "\n",
       "LIMITATIONS:\n",
       "    1. 2021-07-16: Only gets the statewise data\n",
       "TODO: Get and process distric-wise data.\n",
       "\n",
       "Examples:\n",
       ">>> # Instantiate\n",
       ">>> dl = DataLoader()\n"
      ]
     },
     "metadata": {},
     "output_type": "display_data"
    }
   ],
   "source": [
    "dl?"
   ]
  },
  {
   "cell_type": "code",
   "execution_count": 5,
   "metadata": {},
   "outputs": [
    {
     "name": "stderr",
     "output_type": "stream",
     "text": [
      "../consumer/api_consumer.py:167: UserWarning: Data is up-to-date. Using local files.\n",
      "  warnings.warn(\"Data is up-to-date. Using local files.\")\n"
     ]
    }
   ],
   "source": [
    "ind_data = dl.get_data(state_codes='TT')"
   ]
  },
  {
   "cell_type": "code",
   "execution_count": 6,
   "metadata": {},
   "outputs": [
    {
     "data": {
      "text/plain": [
       "\u001b[0;31mSignature:\u001b[0m\n",
       "\u001b[0mdl\u001b[0m\u001b[0;34m.\u001b[0m\u001b[0mget_data\u001b[0m\u001b[0;34m(\u001b[0m\u001b[0;34m\u001b[0m\n",
       "\u001b[0;34m\u001b[0m    \u001b[0mstate_codes\u001b[0m\u001b[0;34m:\u001b[0m \u001b[0mUnion\u001b[0m\u001b[0;34m[\u001b[0m\u001b[0mstr\u001b[0m\u001b[0;34m,\u001b[0m \u001b[0mList\u001b[0m\u001b[0;34m[\u001b[0m\u001b[0mstr\u001b[0m\u001b[0;34m]\u001b[0m\u001b[0;34m]\u001b[0m \u001b[0;34m=\u001b[0m \u001b[0;34m'TT'\u001b[0m\u001b[0;34m,\u001b[0m\u001b[0;34m\u001b[0m\n",
       "\u001b[0;34m\u001b[0m    \u001b[0mdata_type\u001b[0m\u001b[0;34m:\u001b[0m \u001b[0mstr\u001b[0m \u001b[0;34m=\u001b[0m \u001b[0;34m'timeseries'\u001b[0m\u001b[0;34m,\u001b[0m\u001b[0;34m\u001b[0m\n",
       "\u001b[0;34m\u001b[0m\u001b[0;34m)\u001b[0m \u001b[0;34m->\u001b[0m \u001b[0mUnion\u001b[0m\u001b[0;34m[\u001b[0m\u001b[0mpandas\u001b[0m\u001b[0;34m.\u001b[0m\u001b[0mcore\u001b[0m\u001b[0;34m.\u001b[0m\u001b[0mframe\u001b[0m\u001b[0;34m.\u001b[0m\u001b[0mDataFrame\u001b[0m\u001b[0;34m,\u001b[0m \u001b[0mDict\u001b[0m\u001b[0;34m[\u001b[0m\u001b[0mstr\u001b[0m\u001b[0;34m,\u001b[0m \u001b[0mpandas\u001b[0m\u001b[0;34m.\u001b[0m\u001b[0mcore\u001b[0m\u001b[0;34m.\u001b[0m\u001b[0mframe\u001b[0m\u001b[0;34m.\u001b[0m\u001b[0mDataFrame\u001b[0m\u001b[0;34m]\u001b[0m\u001b[0;34m]\u001b[0m\u001b[0;34m\u001b[0m\u001b[0;34m\u001b[0m\u001b[0m\n",
       "\u001b[0;31mDocstring:\u001b[0m\n",
       "Get the data as a DataFrame or a dictionary of DataFrames\n",
       "\n",
       "Parameters:\n",
       "state_codes: Union[str, Lits(str)] -- Required state data for given state code \n",
       "             as a string (one state) or as a list of string (multiple states)\n",
       "\n",
       "             if state_codes = 'all', entire data dict is returned. See the method\n",
       "             get_all_timeseries and get_all_daily for compact signature version\n",
       "\n",
       "             if state_codes is a non-empty list of strings, returns the data as dict '\n",
       "             whose keys are the corresponding state codes and the values are the\n",
       "             corresponding DataFrames.\n",
       "\n",
       "             if it is an empty list, an error is raised!\n",
       "\n",
       "             if the list contains some valid and some invalid codes, DataFrames for\n",
       "             only valid codes is returned (as a best effort)\n",
       "\n",
       "             you can find available states codes using the rather premitive search \n",
       "             method: search_state_code\n",
       "data_type: str -- only two flavours are considered: 'timeseries' and 'daily'\n",
       "\u001b[0;31mFile:\u001b[0m      ~/src/pysrc/covid_modeling/src/consumer/api_consumer.py\n",
       "\u001b[0;31mType:\u001b[0m      method\n"
      ]
     },
     "metadata": {},
     "output_type": "display_data"
    }
   ],
   "source": [
    "dl.get_data?"
   ]
  },
  {
   "cell_type": "code",
   "execution_count": 7,
   "metadata": {},
   "outputs": [
    {
     "data": {
      "text/plain": [
       "Index(['date', 'population', 'delta.confirmed', 'delta7.confirmed',\n",
       "       'total.confirmed', 'delta.recovered', 'delta7.recovered',\n",
       "       'total.recovered', 'delta.deceased', 'delta.tested', 'delta7.deceased',\n",
       "       'delta7.tested', 'total.deceased', 'total.tested', 'delta.other',\n",
       "       'delta7.other', 'total.other', 'delta.vaccinated1',\n",
       "       'delta7.vaccinated1', 'total.vaccinated1', 'delta.vaccinated2',\n",
       "       'delta7.vaccinated2', 'total.vaccinated2'],\n",
       "      dtype='object')"
      ]
     },
     "execution_count": 7,
     "metadata": {},
     "output_type": "execute_result"
    }
   ],
   "source": [
    "ind_data.columns"
   ]
  },
  {
   "cell_type": "code",
   "execution_count": 8,
   "metadata": {},
   "outputs": [
    {
     "data": {
      "application/vnd.jupyter.widget-view+json": {
       "model_id": "5210bd2aee4f4b69b5a1efeeef2a6839",
       "version_major": 2,
       "version_minor": 0
      },
      "text/plain": [
       "Canvas(toolbar=Toolbar(toolitems=[('Home', 'Reset original view', 'home', 'home'), ('Back', 'Back to previous …"
      ]
     },
     "metadata": {},
     "output_type": "display_data"
    },
    {
     "data": {
      "text/plain": [
       "<AxesSubplot:title={'center':'India Delta'}>"
      ]
     },
     "execution_count": 8,
     "metadata": {},
     "output_type": "execute_result"
    }
   ],
   "source": [
    "%matplotlib widget\n",
    "ind_data[['delta.vaccinated1', 'delta.vaccinated2', 'delta.confirmed', 'delta.tested']].plot(legend=True, figsize=(15, 6), title=\"India Delta\")"
   ]
  },
  {
   "cell_type": "code",
   "execution_count": 9,
   "metadata": {},
   "outputs": [
    {
     "name": "stderr",
     "output_type": "stream",
     "text": [
      "../consumer/api_consumer.py:167: UserWarning: Data is up-to-date. Using local files.\n",
      "  warnings.warn(\"Data is up-to-date. Using local files.\")\n"
     ]
    }
   ],
   "source": [
    "ka_data = dl.get_all_timeseries()['KA']"
   ]
  },
  {
   "cell_type": "code",
   "execution_count": 10,
   "metadata": {},
   "outputs": [
    {
     "data": {
      "application/vnd.jupyter.widget-view+json": {
       "model_id": "f36cb7a32f064cdb8ff8feaa0502d6c8",
       "version_major": 2,
       "version_minor": 0
      },
      "text/plain": [
       "Canvas(toolbar=Toolbar(toolitems=[('Home', 'Reset original view', 'home', 'home'), ('Back', 'Back to previous …"
      ]
     },
     "metadata": {},
     "output_type": "display_data"
    },
    {
     "data": {
      "text/plain": [
       "<AxesSubplot:title={'center':'KA Delta'}>"
      ]
     },
     "execution_count": 10,
     "metadata": {},
     "output_type": "execute_result"
    }
   ],
   "source": [
    "%matplotlib widget\n",
    "ka_data[['delta.vaccinated1', 'delta.vaccinated2', 'delta.confirmed', 'delta.tested']].plot(legend=True, figsize=(15, 6), title=\"KA Delta\")"
   ]
  },
  {
   "cell_type": "code",
   "execution_count": 14,
   "metadata": {},
   "outputs": [
    {
     "data": {
      "application/vnd.jupyter.widget-view+json": {
       "model_id": "3c2c7033bccb426eb2198cc828e0e4a0",
       "version_major": 2,
       "version_minor": 0
      },
      "text/plain": [
       "Canvas(toolbar=Toolbar(toolitems=[('Home', 'Reset original view', 'home', 'home'), ('Back', 'Back to previous …"
      ]
     },
     "metadata": {},
     "output_type": "display_data"
    },
    {
     "data": {
      "text/plain": [
       "<AxesSubplot:title={'center':'UP Delta'}>"
      ]
     },
     "execution_count": 14,
     "metadata": {},
     "output_type": "execute_result"
    }
   ],
   "source": [
    "%matplotlib widget\n",
    "up_data[['delta.vaccinated1', 'delta.vaccinated2', 'delta.confirmed', 'delta.tested']].plot(legend=True, figsize=(15, 6), title=\"UP Delta\")"
   ]
  }
 ],
 "metadata": {
  "kernelspec": {
   "display_name": "Python 3 (ipykernel)",
   "language": "python",
   "name": "python3"
  },
  "language_info": {
   "codemirror_mode": {
    "name": "ipython",
    "version": 3
   },
   "file_extension": ".py",
   "mimetype": "text/x-python",
   "name": "python",
   "nbconvert_exporter": "python",
   "pygments_lexer": "ipython3",
   "version": "3.8.8"
  }
 },
 "nbformat": 4,
 "nbformat_minor": 4
}
