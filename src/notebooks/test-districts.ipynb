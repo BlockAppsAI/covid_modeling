{
 "cells": [
  {
   "cell_type": "code",
   "execution_count": 71,
   "metadata": {},
   "outputs": [],
   "source": [
    "import pycurl\n",
    "import pandas as pd\n",
    "import numpy as np\n",
    "from datetime import datetime\n",
    "import os\n",
    "import certifi\n",
    "import glob\n",
    "import warnings"
   ]
  },
  {
   "cell_type": "code",
   "execution_count": 54,
   "metadata": {},
   "outputs": [
    {
     "data": {
      "text/plain": [
       "'2021-07-19'"
      ]
     },
     "execution_count": 54,
     "metadata": {},
     "output_type": "execute_result"
    }
   ],
   "source": [
    "str(datetime.now().date())"
   ]
  },
  {
   "cell_type": "code",
   "execution_count": 61,
   "metadata": {},
   "outputs": [
    {
     "data": {
      "text/plain": [
       "'/home'"
      ]
     },
     "execution_count": 61,
     "metadata": {},
     "output_type": "execute_result"
    }
   ],
   "source": [
    "os.path.dirname('/home/anupam')"
   ]
  },
  {
   "cell_type": "code",
   "execution_count": 72,
   "metadata": {},
   "outputs": [],
   "source": [
    "data_dir = \"../../data\"\n",
    "today = str(datetime.now().date())\n",
    "filename = \"districts-\" + today + \".csv\"\n",
    "filepath = os.path.join(data_dir, filename)\n",
    "\n",
    "def perform_file_curl(filepath, remove_old=True):\n",
    "    if os.path.exists(filepath):\n",
    "        warnings.warn(\"Latest CSV data already exists; not downloading.\")\n",
    "        return\n",
    "\n",
    "    if remove_old:\n",
    "        dirname = os.path.dirname(filepath)\n",
    "        filelist = glob.glob(os.path.join(dirname, 'districts*.csv'))\n",
    "        for file in filelist:\n",
    "            try:\n",
    "                os.remove(file)\n",
    "            except:\n",
    "                raise UserWarning(f\"Error while deleting the file: {file}\")\n",
    "\n",
    "    file = open(filepath, 'wb')\n",
    "    URL = \"https://api.covid19india.org/csv/latest/districts.csv\"\n",
    "    c = pycurl.Curl()\n",
    "    c.setopt(c.URL, URL)\n",
    "    c.setopt(c.WRITEDATA, file)\n",
    "    c.setopt(c.CAINFO, certifi.where())\n",
    "    c.perform()\n",
    "    c.close()\n",
    "    file.close()"
   ]
  },
  {
   "cell_type": "code",
   "execution_count": 73,
   "metadata": {},
   "outputs": [
    {
     "name": "stderr",
     "output_type": "stream",
     "text": [
      "/tmp/ipykernel_137395/2051968931.py:8: UserWarning: Latest CSV data already exists; not downloading.\n",
      "  warnings.warn(\"Latest CSV data already exists; not downloading.\")\n"
     ]
    }
   ],
   "source": [
    "perform_file_curl(filepath)"
   ]
  },
  {
   "cell_type": "code",
   "execution_count": 58,
   "metadata": {},
   "outputs": [],
   "source": [
    "if os.path.exists(os.path.join(data_dir, filename)):\n",
    "    print(\"OK\")\n",
    "else:\n",
    "    perform_file_curl()"
   ]
  },
  {
   "cell_type": "code",
   "execution_count": 38,
   "metadata": {},
   "outputs": [],
   "source": [
    "csv = \"../../data/districts.csv\""
   ]
  },
  {
   "cell_type": "code",
   "execution_count": 39,
   "metadata": {},
   "outputs": [],
   "source": [
    "df = pd.read_csv(csv)"
   ]
  },
  {
   "cell_type": "code",
   "execution_count": 40,
   "metadata": {},
   "outputs": [
    {
     "data": {
      "text/html": [
       "<div>\n",
       "<style scoped>\n",
       "    .dataframe tbody tr th:only-of-type {\n",
       "        vertical-align: middle;\n",
       "    }\n",
       "\n",
       "    .dataframe tbody tr th {\n",
       "        vertical-align: top;\n",
       "    }\n",
       "\n",
       "    .dataframe thead th {\n",
       "        text-align: right;\n",
       "    }\n",
       "</style>\n",
       "<table border=\"1\" class=\"dataframe\">\n",
       "  <thead>\n",
       "    <tr style=\"text-align: right;\">\n",
       "      <th></th>\n",
       "      <th>Date</th>\n",
       "      <th>State</th>\n",
       "      <th>District</th>\n",
       "      <th>Confirmed</th>\n",
       "      <th>Recovered</th>\n",
       "      <th>Deceased</th>\n",
       "      <th>Other</th>\n",
       "      <th>Tested</th>\n",
       "    </tr>\n",
       "  </thead>\n",
       "  <tbody>\n",
       "    <tr>\n",
       "      <th>0</th>\n",
       "      <td>2020-04-26</td>\n",
       "      <td>Andaman and Nicobar Islands</td>\n",
       "      <td>Unknown</td>\n",
       "      <td>33</td>\n",
       "      <td>11</td>\n",
       "      <td>0</td>\n",
       "      <td>0</td>\n",
       "      <td>NaN</td>\n",
       "    </tr>\n",
       "    <tr>\n",
       "      <th>1</th>\n",
       "      <td>2020-04-26</td>\n",
       "      <td>Andhra Pradesh</td>\n",
       "      <td>Anantapur</td>\n",
       "      <td>53</td>\n",
       "      <td>14</td>\n",
       "      <td>4</td>\n",
       "      <td>0</td>\n",
       "      <td>NaN</td>\n",
       "    </tr>\n",
       "    <tr>\n",
       "      <th>2</th>\n",
       "      <td>2020-04-26</td>\n",
       "      <td>Andhra Pradesh</td>\n",
       "      <td>Chittoor</td>\n",
       "      <td>73</td>\n",
       "      <td>13</td>\n",
       "      <td>0</td>\n",
       "      <td>0</td>\n",
       "      <td>NaN</td>\n",
       "    </tr>\n",
       "    <tr>\n",
       "      <th>3</th>\n",
       "      <td>2020-04-26</td>\n",
       "      <td>Andhra Pradesh</td>\n",
       "      <td>East Godavari</td>\n",
       "      <td>39</td>\n",
       "      <td>12</td>\n",
       "      <td>0</td>\n",
       "      <td>0</td>\n",
       "      <td>NaN</td>\n",
       "    </tr>\n",
       "    <tr>\n",
       "      <th>4</th>\n",
       "      <td>2020-04-26</td>\n",
       "      <td>Andhra Pradesh</td>\n",
       "      <td>Guntur</td>\n",
       "      <td>214</td>\n",
       "      <td>29</td>\n",
       "      <td>8</td>\n",
       "      <td>0</td>\n",
       "      <td>NaN</td>\n",
       "    </tr>\n",
       "  </tbody>\n",
       "</table>\n",
       "</div>"
      ],
      "text/plain": [
       "         Date                        State       District  Confirmed  \\\n",
       "0  2020-04-26  Andaman and Nicobar Islands        Unknown         33   \n",
       "1  2020-04-26               Andhra Pradesh      Anantapur         53   \n",
       "2  2020-04-26               Andhra Pradesh       Chittoor         73   \n",
       "3  2020-04-26               Andhra Pradesh  East Godavari         39   \n",
       "4  2020-04-26               Andhra Pradesh         Guntur        214   \n",
       "\n",
       "   Recovered  Deceased  Other  Tested  \n",
       "0         11         0      0     NaN  \n",
       "1         14         4      0     NaN  \n",
       "2         13         0      0     NaN  \n",
       "3         12         0      0     NaN  \n",
       "4         29         8      0     NaN  "
      ]
     },
     "execution_count": 40,
     "metadata": {},
     "output_type": "execute_result"
    }
   ],
   "source": [
    "df.head()"
   ]
  },
  {
   "cell_type": "code",
   "execution_count": 41,
   "metadata": {},
   "outputs": [],
   "source": [
    "CODES_STATES = {\n",
    "    \"AP\": \"Andhra Pradesh\", \"AR\": \"Arunachal Pradesh\", \"AS\": \"Assam\",\n",
    "    \"BR\": \"Bihar\", \"CT\": \"Chhattisgarh\", \"GA\": \"Goa\", \"GJ\": \"Gujarat\",\n",
    "    \"HR\": \"Haryana\", \"HP\": \"Himachal Pradesh\", \"JH\": \"Jharkhand\",\n",
    "    \"KA\": \"Karnataka\", \"KL\": \"Kerala\", \"MP\": \"Madhya Pradesh\", \n",
    "    \"MH\": \"Maharashtra\", \"MN\": \"Manipur\", \"ML\": \"Meghalaya\", \n",
    "    \"MZ\": \"Mizoram\", \"NL\": \"Nagaland\", \"OR\": \"Odisha\", \"PB\": \"Punjab\",\n",
    "    \"RJ\": \"Rajasthan\", \"SK\": \"Sikkim\", \"TN\": \"Tamil Nadu\",\n",
    "    \"TG\": \"Telangana\", \"TR\": \"Tripura\", \"UT\": \"Uttarakhand\", \n",
    "    \"UP\": \"Uttar Pradesh\", \"WB\": \"West Bengal\", \n",
    "    \"AN\": \"Andaman and Nicobar Islands\", \"CH\": \"Chandigarh\", \n",
    "    \"DN\": \"Dadra and Nagar Haveli and Daman and Diu\", \"DL\": \"Delhi\",\n",
    "    \"JK\": \"Jammu and Kashmir\", \"LA\": \"Ladakh\", \"LD\": \"Lakshadweep\",\n",
    "    \"PY\": \"Puducherry\", \"TT\": \"India\"\n",
    "}\n",
    "\n",
    "STATES_CODES = {v.lower(): k for k, v in CODES_STATES.items()}"
   ]
  },
  {
   "cell_type": "code",
   "execution_count": 42,
   "metadata": {},
   "outputs": [],
   "source": [
    "df.columns = [column.lower() for column in df.columns]"
   ]
  },
  {
   "cell_type": "code",
   "execution_count": 44,
   "metadata": {},
   "outputs": [],
   "source": [
    "grouped_by_districts = df.groupby(['district', 'state'])"
   ]
  },
  {
   "cell_type": "code",
   "execution_count": 45,
   "metadata": {},
   "outputs": [
    {
     "data": {
      "text/html": [
       "<div>\n",
       "<style scoped>\n",
       "    .dataframe tbody tr th:only-of-type {\n",
       "        vertical-align: middle;\n",
       "    }\n",
       "\n",
       "    .dataframe tbody tr th {\n",
       "        vertical-align: top;\n",
       "    }\n",
       "\n",
       "    .dataframe thead th {\n",
       "        text-align: right;\n",
       "    }\n",
       "</style>\n",
       "<table border=\"1\" class=\"dataframe\">\n",
       "  <thead>\n",
       "    <tr style=\"text-align: right;\">\n",
       "      <th></th>\n",
       "      <th></th>\n",
       "      <th>date</th>\n",
       "      <th>confirmed</th>\n",
       "      <th>recovered</th>\n",
       "      <th>deceased</th>\n",
       "      <th>other</th>\n",
       "      <th>tested</th>\n",
       "    </tr>\n",
       "    <tr>\n",
       "      <th>district</th>\n",
       "      <th>state</th>\n",
       "      <th></th>\n",
       "      <th></th>\n",
       "      <th></th>\n",
       "      <th></th>\n",
       "      <th></th>\n",
       "      <th></th>\n",
       "    </tr>\n",
       "  </thead>\n",
       "  <tbody>\n",
       "    <tr>\n",
       "      <th>Agar Malwa</th>\n",
       "      <th>Madhya Pradesh</th>\n",
       "      <td>2020-04-26</td>\n",
       "      <td>11</td>\n",
       "      <td>0</td>\n",
       "      <td>1</td>\n",
       "      <td>0</td>\n",
       "      <td>NaN</td>\n",
       "    </tr>\n",
       "    <tr>\n",
       "      <th>Agra</th>\n",
       "      <th>Uttar Pradesh</th>\n",
       "      <td>2020-04-26</td>\n",
       "      <td>372</td>\n",
       "      <td>49</td>\n",
       "      <td>10</td>\n",
       "      <td>0</td>\n",
       "      <td>7463.0</td>\n",
       "    </tr>\n",
       "    <tr>\n",
       "      <th>Ahmedabad</th>\n",
       "      <th>Gujarat</th>\n",
       "      <td>2020-04-26</td>\n",
       "      <td>2181</td>\n",
       "      <td>140</td>\n",
       "      <td>104</td>\n",
       "      <td>0</td>\n",
       "      <td>63813.0</td>\n",
       "    </tr>\n",
       "    <tr>\n",
       "      <th>Ahmednagar</th>\n",
       "      <th>Maharashtra</th>\n",
       "      <td>2020-04-26</td>\n",
       "      <td>36</td>\n",
       "      <td>22</td>\n",
       "      <td>2</td>\n",
       "      <td>0</td>\n",
       "      <td>4900.0</td>\n",
       "    </tr>\n",
       "    <tr>\n",
       "      <th>Airport Quarantine</th>\n",
       "      <th>Tamil Nadu</th>\n",
       "      <td>2020-05-12</td>\n",
       "      <td>4</td>\n",
       "      <td>0</td>\n",
       "      <td>0</td>\n",
       "      <td>0</td>\n",
       "      <td>NaN</td>\n",
       "    </tr>\n",
       "    <tr>\n",
       "      <th>...</th>\n",
       "      <th>...</th>\n",
       "      <td>...</td>\n",
       "      <td>...</td>\n",
       "      <td>...</td>\n",
       "      <td>...</td>\n",
       "      <td>...</td>\n",
       "      <td>...</td>\n",
       "    </tr>\n",
       "    <tr>\n",
       "      <th>Yadgir</th>\n",
       "      <th>Karnataka</th>\n",
       "      <td>2020-05-12</td>\n",
       "      <td>2</td>\n",
       "      <td>0</td>\n",
       "      <td>0</td>\n",
       "      <td>0</td>\n",
       "      <td>14292.0</td>\n",
       "    </tr>\n",
       "    <tr>\n",
       "      <th>Yamunanagar</th>\n",
       "      <th>Haryana</th>\n",
       "      <td>2020-04-26</td>\n",
       "      <td>3</td>\n",
       "      <td>3</td>\n",
       "      <td>0</td>\n",
       "      <td>0</td>\n",
       "      <td>10511.0</td>\n",
       "    </tr>\n",
       "    <tr>\n",
       "      <th>Yanam</th>\n",
       "      <th>Puducherry</th>\n",
       "      <td>2020-06-21</td>\n",
       "      <td>1</td>\n",
       "      <td>0</td>\n",
       "      <td>0</td>\n",
       "      <td>0</td>\n",
       "      <td>855.0</td>\n",
       "    </tr>\n",
       "    <tr>\n",
       "      <th>Yavatmal</th>\n",
       "      <th>Maharashtra</th>\n",
       "      <td>2020-04-26</td>\n",
       "      <td>48</td>\n",
       "      <td>10</td>\n",
       "      <td>0</td>\n",
       "      <td>0</td>\n",
       "      <td>5137.0</td>\n",
       "    </tr>\n",
       "    <tr>\n",
       "      <th>Zunheboto</th>\n",
       "      <th>Nagaland</th>\n",
       "      <td>2020-06-08</td>\n",
       "      <td>1</td>\n",
       "      <td>0</td>\n",
       "      <td>0</td>\n",
       "      <td>0</td>\n",
       "      <td>1678.0</td>\n",
       "    </tr>\n",
       "  </tbody>\n",
       "</table>\n",
       "<p>679 rows × 6 columns</p>\n",
       "</div>"
      ],
      "text/plain": [
       "                                         date  confirmed  recovered  deceased  \\\n",
       "district           state                                                        \n",
       "Agar Malwa         Madhya Pradesh  2020-04-26         11          0         1   \n",
       "Agra               Uttar Pradesh   2020-04-26        372         49        10   \n",
       "Ahmedabad          Gujarat         2020-04-26       2181        140       104   \n",
       "Ahmednagar         Maharashtra     2020-04-26         36         22         2   \n",
       "Airport Quarantine Tamil Nadu      2020-05-12          4          0         0   \n",
       "...                                       ...        ...        ...       ...   \n",
       "Yadgir             Karnataka       2020-05-12          2          0         0   \n",
       "Yamunanagar        Haryana         2020-04-26          3          3         0   \n",
       "Yanam              Puducherry      2020-06-21          1          0         0   \n",
       "Yavatmal           Maharashtra     2020-04-26         48         10         0   \n",
       "Zunheboto          Nagaland        2020-06-08          1          0         0   \n",
       "\n",
       "                                   other   tested  \n",
       "district           state                           \n",
       "Agar Malwa         Madhya Pradesh      0      NaN  \n",
       "Agra               Uttar Pradesh       0   7463.0  \n",
       "Ahmedabad          Gujarat             0  63813.0  \n",
       "Ahmednagar         Maharashtra         0   4900.0  \n",
       "Airport Quarantine Tamil Nadu          0      NaN  \n",
       "...                                  ...      ...  \n",
       "Yadgir             Karnataka           0  14292.0  \n",
       "Yamunanagar        Haryana             0  10511.0  \n",
       "Yanam              Puducherry          0    855.0  \n",
       "Yavatmal           Maharashtra         0   5137.0  \n",
       "Zunheboto          Nagaland            0   1678.0  \n",
       "\n",
       "[679 rows x 6 columns]"
      ]
     },
     "execution_count": 45,
     "metadata": {},
     "output_type": "execute_result"
    }
   ],
   "source": [
    "grouped_by_districts.first()"
   ]
  },
  {
   "cell_type": "code",
   "execution_count": 46,
   "metadata": {},
   "outputs": [
    {
     "data": {
      "text/plain": [
       "679"
      ]
     },
     "execution_count": 46,
     "metadata": {},
     "output_type": "execute_result"
    }
   ],
   "source": [
    "len(grouped_by_districts.groups.keys())"
   ]
  },
  {
   "cell_type": "code",
   "execution_count": null,
   "metadata": {},
   "outputs": [],
   "source": [
    "i = 0\n",
    "\n",
    "for name, group in grouped_by_districts:\n",
    "    print(name)\n",
    "    print(group)\n",
    "    i += 1\n",
    "    if i > 10:\n",
    "        break"
   ]
  },
  {
   "cell_type": "code",
   "execution_count": null,
   "metadata": {},
   "outputs": [],
   "source": []
  }
 ],
 "metadata": {
  "kernelspec": {
   "display_name": "Python 3 (ipykernel)",
   "language": "python",
   "name": "python3"
  },
  "language_info": {
   "codemirror_mode": {
    "name": "ipython",
    "version": 3
   },
   "file_extension": ".py",
   "mimetype": "text/x-python",
   "name": "python",
   "nbconvert_exporter": "python",
   "pygments_lexer": "ipython3",
   "version": "3.8.8"
  }
 },
 "nbformat": 4,
 "nbformat_minor": 4
}
