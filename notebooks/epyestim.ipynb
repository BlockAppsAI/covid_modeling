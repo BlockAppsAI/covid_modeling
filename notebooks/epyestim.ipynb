{
 "cells": [
  {
   "cell_type": "code",
   "execution_count": 1,
   "metadata": {},
   "outputs": [],
   "source": [
    "import numpy as np\n",
    "import pandas as pd\n",
    "import matplotlib as mpl\n",
    "import matplotlib.pyplot as plt\n",
    "\n",
    "from scipy.stats import gamma, poisson\n",
    "import epyestim\n",
    "import epyestim.covid19 as covid19\n",
    "\n",
    "import pymc3 as pm\n",
    "import arviz as az\n",
    "import itertools"
   ]
  },
  {
   "cell_type": "code",
   "execution_count": 2,
   "metadata": {},
   "outputs": [],
   "source": [
    "import sys\n",
    "sys.path.append('../src')\n",
    "from consumer import DataLoader"
   ]
  },
  {
   "cell_type": "code",
   "execution_count": 3,
   "metadata": {},
   "outputs": [],
   "source": [
    "dl = DataLoader()\n",
    "df_ind = dl.get_data()\n",
    "df_ind.set_index('date', inplace=True)"
   ]
  },
  {
   "cell_type": "code",
   "execution_count": 4,
   "metadata": {},
   "outputs": [
    {
     "data": {
      "text/plain": [
       "date\n",
       "2020-01-30        1.0\n",
       "2020-02-02        1.0\n",
       "2020-02-03        1.0\n",
       "2020-02-14        NaN\n",
       "2020-03-02        2.0\n",
       "               ...   \n",
       "2021-07-23    39501.0\n",
       "2021-07-24    40286.0\n",
       "2021-07-25    38179.0\n",
       "2021-07-26    30820.0\n",
       "2021-07-27     6656.0\n",
       "Name: delta.confirmed, Length: 517, dtype: float64"
      ]
     },
     "execution_count": 4,
     "metadata": {},
     "output_type": "execute_result"
    }
   ],
   "source": [
    "ind_cases = df_ind['delta.confirmed']\n",
    "# ind_cases = ind_cases.squeeze()\n",
    "ind_cases"
   ]
  },
  {
   "cell_type": "code",
   "execution_count": 5,
   "metadata": {},
   "outputs": [],
   "source": [
    "si_distribution = covid19.generate_standard_si_distribution()\n",
    "delay_distribution = covid19.generate_standard_infection_to_reporting_distribution()"
   ]
  },
  {
   "cell_type": "code",
   "execution_count": 6,
   "metadata": {},
   "outputs": [
    {
     "data": {
      "application/vnd.jupyter.widget-view+json": {
       "model_id": "1b299687957545d69c20d7c47e4c1dcf",
       "version_major": 2,
       "version_minor": 0
      },
      "text/plain": [
       "Canvas(toolbar=Toolbar(toolitems=[('Home', 'Reset original view', 'home', 'home'), ('Back', 'Back to previous …"
      ]
     },
     "metadata": {},
     "output_type": "display_data"
    },
    {
     "data": {
      "text/plain": [
       "<matplotlib.pyplot._IoffContext at 0x7fb2ab1585b0>"
      ]
     },
     "execution_count": 6,
     "metadata": {},
     "output_type": "execute_result"
    }
   ],
   "source": [
    "%matplotlib widget\n",
    "plt.ion()\n",
    "\n",
    "fig, ax = plt.subplots(1, 2, figsize=(16, 4))\n",
    "\n",
    "ax[0].bar(range(len(si_distribution)), si_distribution, width=1)\n",
    "ax[1].bar(range(len(delay_distribution)), delay_distribution, width=1)\n",
    "ax[0].set_title('Default serial interval distribution')\n",
    "ax[1].set_title('Default infection-to-reporting delay distribution')\n",
    "\n",
    "plt.show()\n",
    "plt.ioff()"
   ]
  },
  {
   "cell_type": "markdown",
   "metadata": {},
   "source": [
    "## Time Varying $R_t$"
   ]
  },
  {
   "cell_type": "code",
   "execution_count": 7,
   "metadata": {},
   "outputs": [],
   "source": [
    "ind_cases = ind_cases[4:]"
   ]
  },
  {
   "cell_type": "code",
   "execution_count": 8,
   "metadata": {},
   "outputs": [
    {
     "data": {
      "text/plain": [
       "date\n",
       "2020-03-02     2.0\n",
       "2020-03-03     1.0\n",
       "2020-03-04    22.0\n",
       "2020-03-05     2.0\n",
       "2020-03-06     1.0\n",
       "Name: delta.confirmed, dtype: float64"
      ]
     },
     "execution_count": 8,
     "metadata": {},
     "output_type": "execute_result"
    }
   ],
   "source": [
    "ind_cases.head()"
   ]
  },
  {
   "cell_type": "code",
   "execution_count": 9,
   "metadata": {},
   "outputs": [
    {
     "data": {
      "text/html": [
       "<div>\n",
       "<style scoped>\n",
       "    .dataframe tbody tr th:only-of-type {\n",
       "        vertical-align: middle;\n",
       "    }\n",
       "\n",
       "    .dataframe tbody tr th {\n",
       "        vertical-align: top;\n",
       "    }\n",
       "\n",
       "    .dataframe thead th {\n",
       "        text-align: right;\n",
       "    }\n",
       "</style>\n",
       "<table border=\"1\" class=\"dataframe\">\n",
       "  <thead>\n",
       "    <tr style=\"text-align: right;\">\n",
       "      <th></th>\n",
       "      <th>cases</th>\n",
       "      <th>R_mean</th>\n",
       "      <th>R_var</th>\n",
       "      <th>Q0.025</th>\n",
       "      <th>Q0.5</th>\n",
       "      <th>Q0.975</th>\n",
       "    </tr>\n",
       "  </thead>\n",
       "  <tbody>\n",
       "    <tr>\n",
       "      <th>2021-07-23</th>\n",
       "      <td>39501.0</td>\n",
       "      <td>0.593781</td>\n",
       "      <td>2.187337e-06</td>\n",
       "      <td>0.590891</td>\n",
       "      <td>0.593779</td>\n",
       "      <td>0.596677</td>\n",
       "    </tr>\n",
       "    <tr>\n",
       "      <th>2021-07-24</th>\n",
       "      <td>40286.0</td>\n",
       "      <td>0.486149</td>\n",
       "      <td>1.923102e-06</td>\n",
       "      <td>0.483434</td>\n",
       "      <td>0.486148</td>\n",
       "      <td>0.488871</td>\n",
       "    </tr>\n",
       "    <tr>\n",
       "      <th>2021-07-25</th>\n",
       "      <td>38179.0</td>\n",
       "      <td>0.343946</td>\n",
       "      <td>1.520858e-06</td>\n",
       "      <td>0.341529</td>\n",
       "      <td>0.343945</td>\n",
       "      <td>0.346372</td>\n",
       "    </tr>\n",
       "    <tr>\n",
       "      <th>2021-07-26</th>\n",
       "      <td>30820.0</td>\n",
       "      <td>0.174462</td>\n",
       "      <td>8.977378e-07</td>\n",
       "      <td>0.172609</td>\n",
       "      <td>0.174461</td>\n",
       "      <td>0.176326</td>\n",
       "    </tr>\n",
       "    <tr>\n",
       "      <th>2021-07-27</th>\n",
       "      <td>6656.0</td>\n",
       "      <td>0.041614</td>\n",
       "      <td>2.631275e-07</td>\n",
       "      <td>0.040614</td>\n",
       "      <td>0.041612</td>\n",
       "      <td>0.042626</td>\n",
       "    </tr>\n",
       "  </tbody>\n",
       "</table>\n",
       "</div>"
      ],
      "text/plain": [
       "              cases    R_mean         R_var    Q0.025      Q0.5    Q0.975\n",
       "2021-07-23  39501.0  0.593781  2.187337e-06  0.590891  0.593779  0.596677\n",
       "2021-07-24  40286.0  0.486149  1.923102e-06  0.483434  0.486148  0.488871\n",
       "2021-07-25  38179.0  0.343946  1.520858e-06  0.341529  0.343945  0.346372\n",
       "2021-07-26  30820.0  0.174462  8.977378e-07  0.172609  0.174461  0.176326\n",
       "2021-07-27   6656.0  0.041614  2.631275e-07  0.040614  0.041612  0.042626"
      ]
     },
     "execution_count": 9,
     "metadata": {},
     "output_type": "execute_result"
    }
   ],
   "source": [
    "ind_tvr = covid19.r_covid(ind_cases, n_samples=500, smoothing_window=7, r_window_size=7, auto_cutoff=False)\n",
    "ind_tvr.tail()"
   ]
  },
  {
   "cell_type": "code",
   "execution_count": 163,
   "metadata": {},
   "outputs": [
    {
     "data": {
      "application/vnd.jupyter.widget-view+json": {
       "model_id": "263918cb51834b87aad4ceb6e3cbdbf6",
       "version_major": 2,
       "version_minor": 0
      },
      "text/plain": [
       "Canvas(toolbar=Toolbar(toolitems=[('Home', 'Reset original view', 'home', 'home'), ('Back', 'Back to previous …"
      ]
     },
     "metadata": {},
     "output_type": "display_data"
    },
    {
     "data": {
      "text/plain": [
       "<matplotlib.pyplot._IoffContext at 0x7f22cf384070>"
      ]
     },
     "execution_count": 163,
     "metadata": {},
     "output_type": "execute_result"
    }
   ],
   "source": [
    "%matplotlib widget\n",
    "plt.ion()\n",
    "\n",
    "fig, ax = plt.subplots(1, 1, figsize=(15, 6))\n",
    "\n",
    "ind_tvr.loc[:,'Q0.5'].plot(ax=ax, color='green')\n",
    "\n",
    "ax.fill_between(ind_tvr.index, \n",
    "                  ind_tvr['Q0.025'], \n",
    "                  ind_tvr['Q0.975'],\n",
    "                  color='green',\n",
    "                  alpha=0.1)\n",
    "\n",
    "ax.set_xlabel('date')\n",
    "ax.set_ylabel('R(t) with 95%-CI')\n",
    "ax.set_ylim([0,3])\n",
    "ax.axhline(y=1)\n",
    "ax.set_title('$R_0(t)$ for India')\n",
    "plt.show()\n",
    "plt.ioff()"
   ]
  },
  {
   "cell_type": "code",
   "execution_count": 11,
   "metadata": {},
   "outputs": [
    {
     "name": "stderr",
     "output_type": "stream",
     "text": [
      "src/consumer/api_consumer.py:167: UserWarning: Data is up-to-date. Using local files.\n",
      "  warnings.warn(\"Data is up-to-date. Using local files.\")\n"
     ]
    }
   ],
   "source": [
    "df_ka = dl.get_data(state_codes='KA')\n",
    "df_ka.set_index('date', inplace=True)"
   ]
  },
  {
   "cell_type": "code",
   "execution_count": 12,
   "metadata": {},
   "outputs": [
    {
     "data": {
      "text/plain": [
       "date\n",
       "2020-03-09       1.0\n",
       "2020-03-10       3.0\n",
       "2020-03-11       NaN\n",
       "2020-03-12       1.0\n",
       "2020-03-13       1.0\n",
       "               ...  \n",
       "2021-07-20    1464.0\n",
       "2021-07-21    1639.0\n",
       "2021-07-22    1653.0\n",
       "2021-07-23    1705.0\n",
       "2021-07-24    1857.0\n",
       "Name: delta.confirmed, Length: 503, dtype: float64"
      ]
     },
     "execution_count": 12,
     "metadata": {},
     "output_type": "execute_result"
    }
   ],
   "source": [
    "ka_cases = df_ka['delta.confirmed']\n",
    "ka_cases"
   ]
  },
  {
   "cell_type": "code",
   "execution_count": 13,
   "metadata": {},
   "outputs": [],
   "source": [
    "ka_cases = ka_cases['2020-03-21':]"
   ]
  },
  {
   "cell_type": "code",
   "execution_count": 14,
   "metadata": {},
   "outputs": [],
   "source": [
    "ka_tvr = covid19.r_covid(ka_cases, n_samples=500, smoothing_window=7, r_window_size=7, auto_cutoff=False)"
   ]
  },
  {
   "cell_type": "code",
   "execution_count": 15,
   "metadata": {},
   "outputs": [
    {
     "data": {
      "text/html": [
       "<div>\n",
       "<style scoped>\n",
       "    .dataframe tbody tr th:only-of-type {\n",
       "        vertical-align: middle;\n",
       "    }\n",
       "\n",
       "    .dataframe tbody tr th {\n",
       "        vertical-align: top;\n",
       "    }\n",
       "\n",
       "    .dataframe thead th {\n",
       "        text-align: right;\n",
       "    }\n",
       "</style>\n",
       "<table border=\"1\" class=\"dataframe\">\n",
       "  <thead>\n",
       "    <tr style=\"text-align: right;\">\n",
       "      <th></th>\n",
       "      <th>cases</th>\n",
       "      <th>R_mean</th>\n",
       "      <th>R_var</th>\n",
       "      <th>Q0.025</th>\n",
       "      <th>Q0.5</th>\n",
       "      <th>Q0.975</th>\n",
       "    </tr>\n",
       "  </thead>\n",
       "  <tbody>\n",
       "    <tr>\n",
       "      <th>2021-07-20</th>\n",
       "      <td>1464.0</td>\n",
       "      <td>0.907061</td>\n",
       "      <td>0.000092</td>\n",
       "      <td>0.888280</td>\n",
       "      <td>0.907026</td>\n",
       "      <td>0.926134</td>\n",
       "    </tr>\n",
       "    <tr>\n",
       "      <th>2021-07-21</th>\n",
       "      <td>1639.0</td>\n",
       "      <td>1.082878</td>\n",
       "      <td>0.000111</td>\n",
       "      <td>1.062380</td>\n",
       "      <td>1.082844</td>\n",
       "      <td>1.103652</td>\n",
       "    </tr>\n",
       "    <tr>\n",
       "      <th>2021-07-22</th>\n",
       "      <td>1653.0</td>\n",
       "      <td>1.353828</td>\n",
       "      <td>0.000142</td>\n",
       "      <td>1.330644</td>\n",
       "      <td>1.353793</td>\n",
       "      <td>1.377167</td>\n",
       "    </tr>\n",
       "    <tr>\n",
       "      <th>2021-07-23</th>\n",
       "      <td>1705.0</td>\n",
       "      <td>1.566717</td>\n",
       "      <td>0.000164</td>\n",
       "      <td>1.541660</td>\n",
       "      <td>1.566682</td>\n",
       "      <td>1.591973</td>\n",
       "    </tr>\n",
       "    <tr>\n",
       "      <th>2021-07-24</th>\n",
       "      <td>1857.0</td>\n",
       "      <td>1.642504</td>\n",
       "      <td>0.000161</td>\n",
       "      <td>1.617895</td>\n",
       "      <td>1.642472</td>\n",
       "      <td>1.667416</td>\n",
       "    </tr>\n",
       "  </tbody>\n",
       "</table>\n",
       "</div>"
      ],
      "text/plain": [
       "             cases    R_mean     R_var    Q0.025      Q0.5    Q0.975\n",
       "2021-07-20  1464.0  0.907061  0.000092  0.888280  0.907026  0.926134\n",
       "2021-07-21  1639.0  1.082878  0.000111  1.062380  1.082844  1.103652\n",
       "2021-07-22  1653.0  1.353828  0.000142  1.330644  1.353793  1.377167\n",
       "2021-07-23  1705.0  1.566717  0.000164  1.541660  1.566682  1.591973\n",
       "2021-07-24  1857.0  1.642504  0.000161  1.617895  1.642472  1.667416"
      ]
     },
     "execution_count": 15,
     "metadata": {},
     "output_type": "execute_result"
    }
   ],
   "source": [
    "ka_tvr.tail()"
   ]
  },
  {
   "cell_type": "code",
   "execution_count": 162,
   "metadata": {},
   "outputs": [
    {
     "data": {
      "application/vnd.jupyter.widget-view+json": {
       "model_id": "52321e5127be4224af163582ddb71e4d",
       "version_major": 2,
       "version_minor": 0
      },
      "text/plain": [
       "Canvas(toolbar=Toolbar(toolitems=[('Home', 'Reset original view', 'home', 'home'), ('Back', 'Back to previous …"
      ]
     },
     "metadata": {},
     "output_type": "display_data"
    },
    {
     "data": {
      "text/plain": [
       "<matplotlib.pyplot._IoffContext at 0x7f22ce59b580>"
      ]
     },
     "execution_count": 162,
     "metadata": {},
     "output_type": "execute_result"
    }
   ],
   "source": [
    "%matplotlib widget\n",
    "plt.ion()\n",
    "\n",
    "fig, ax = plt.subplots(1, 1, figsize=(15, 6))\n",
    "\n",
    "ka_tvr.loc[:, 'Q0.5'].plot(ax=ax, color='brown')\n",
    "\n",
    "ax.fill_between(ka_tvr.index, \n",
    "                  ka_tvr['Q0.025'], \n",
    "                  ka_tvr['Q0.975'],\n",
    "                  color='brown',\n",
    "                  alpha=0.1)\n",
    "\n",
    "ax.set_xlabel('date')\n",
    "ax.set_ylabel('R(t) with 95%-CI')\n",
    "ax.set_ylim([0,3])\n",
    "ax.axhline(y=1)\n",
    "ax.set_title('$R_0(t)$ for KA')\n",
    "plt.show()\n",
    "plt.ioff()"
   ]
  },
  {
   "cell_type": "code",
   "execution_count": 17,
   "metadata": {},
   "outputs": [
    {
     "data": {
      "text/html": [
       "<div>\n",
       "<style scoped>\n",
       "    .dataframe tbody tr th:only-of-type {\n",
       "        vertical-align: middle;\n",
       "    }\n",
       "\n",
       "    .dataframe tbody tr th {\n",
       "        vertical-align: top;\n",
       "    }\n",
       "\n",
       "    .dataframe thead th {\n",
       "        text-align: right;\n",
       "    }\n",
       "</style>\n",
       "<table border=\"1\" class=\"dataframe\">\n",
       "  <thead>\n",
       "    <tr style=\"text-align: right;\">\n",
       "      <th></th>\n",
       "      <th>cases</th>\n",
       "      <th>R_mean</th>\n",
       "      <th>R_var</th>\n",
       "      <th>Q0.025</th>\n",
       "      <th>Q0.5</th>\n",
       "      <th>Q0.975</th>\n",
       "    </tr>\n",
       "  </thead>\n",
       "  <tbody>\n",
       "    <tr>\n",
       "      <th>2021-07-20</th>\n",
       "      <td>1464.0</td>\n",
       "      <td>0.907061</td>\n",
       "      <td>0.000092</td>\n",
       "      <td>0.888280</td>\n",
       "      <td>0.907026</td>\n",
       "      <td>0.926134</td>\n",
       "    </tr>\n",
       "    <tr>\n",
       "      <th>2021-07-21</th>\n",
       "      <td>1639.0</td>\n",
       "      <td>1.082878</td>\n",
       "      <td>0.000111</td>\n",
       "      <td>1.062380</td>\n",
       "      <td>1.082844</td>\n",
       "      <td>1.103652</td>\n",
       "    </tr>\n",
       "    <tr>\n",
       "      <th>2021-07-22</th>\n",
       "      <td>1653.0</td>\n",
       "      <td>1.353828</td>\n",
       "      <td>0.000142</td>\n",
       "      <td>1.330644</td>\n",
       "      <td>1.353793</td>\n",
       "      <td>1.377167</td>\n",
       "    </tr>\n",
       "    <tr>\n",
       "      <th>2021-07-23</th>\n",
       "      <td>1705.0</td>\n",
       "      <td>1.566717</td>\n",
       "      <td>0.000164</td>\n",
       "      <td>1.541660</td>\n",
       "      <td>1.566682</td>\n",
       "      <td>1.591973</td>\n",
       "    </tr>\n",
       "    <tr>\n",
       "      <th>2021-07-24</th>\n",
       "      <td>1857.0</td>\n",
       "      <td>1.642504</td>\n",
       "      <td>0.000161</td>\n",
       "      <td>1.617895</td>\n",
       "      <td>1.642472</td>\n",
       "      <td>1.667416</td>\n",
       "    </tr>\n",
       "  </tbody>\n",
       "</table>\n",
       "</div>"
      ],
      "text/plain": [
       "             cases    R_mean     R_var    Q0.025      Q0.5    Q0.975\n",
       "2021-07-20  1464.0  0.907061  0.000092  0.888280  0.907026  0.926134\n",
       "2021-07-21  1639.0  1.082878  0.000111  1.062380  1.082844  1.103652\n",
       "2021-07-22  1653.0  1.353828  0.000142  1.330644  1.353793  1.377167\n",
       "2021-07-23  1705.0  1.566717  0.000164  1.541660  1.566682  1.591973\n",
       "2021-07-24  1857.0  1.642504  0.000161  1.617895  1.642472  1.667416"
      ]
     },
     "execution_count": 17,
     "metadata": {},
     "output_type": "execute_result"
    }
   ],
   "source": [
    "ka_tvr.tail()"
   ]
  },
  {
   "cell_type": "markdown",
   "metadata": {},
   "source": [
    "## TPR and CFR Computation"
   ]
  },
  {
   "cell_type": "code",
   "execution_count": 18,
   "metadata": {},
   "outputs": [
    {
     "name": "stdout",
     "output_type": "stream",
     "text": [
      "            delta.confirmed  delta.tested  delta.deceased\n",
      "date                                                     \n",
      "2020-03-09              1.0           NaN             NaN\n",
      "2020-03-10              3.0           NaN             NaN\n",
      "2020-03-11              NaN           NaN             NaN\n",
      "2020-03-12              1.0           NaN             NaN\n",
      "2020-03-13              1.0           NaN             1.0\n"
     ]
    }
   ],
   "source": [
    "ka_CT = df_ka[['delta.confirmed', 'delta.tested', 'delta.deceased']]\n",
    "print(ka_CT.head())"
   ]
  },
  {
   "cell_type": "code",
   "execution_count": 19,
   "metadata": {},
   "outputs": [
    {
     "data": {
      "application/vnd.jupyter.widget-view+json": {
       "model_id": "f3ade9f9ce53484ca5431437c3015ae7",
       "version_major": 2,
       "version_minor": 0
      },
      "text/plain": [
       "Canvas(toolbar=Toolbar(toolitems=[('Home', 'Reset original view', 'home', 'home'), ('Back', 'Back to previous …"
      ]
     },
     "metadata": {},
     "output_type": "display_data"
    }
   ],
   "source": [
    "%matplotlib widget\n",
    "\n",
    "fig, ax = plt.subplots(figsize=(16, 8))\n",
    "ax.plot(ka_CT.index, ka_CT['delta.confirmed'], 'go-', label='Confirmed')\n",
    "ax.set_ylabel(\"Tested / Confirmed\", color='green', fontsize=14)\n",
    "ax.legend = True\n",
    "\n",
    "ax2 = ax.twinx()\n",
    "ax2.plot(ka_CT.index, ka_CT['delta.deceased'], 'ro--', label='Deceased')\n",
    "ax2.set_ylabel(\"Deceased\", color=\"red\", fontsize=14)\n",
    "\n",
    "ax2.legend = True\n",
    "\n",
    "plt.show()"
   ]
  },
  {
   "cell_type": "code",
   "execution_count": 20,
   "metadata": {},
   "outputs": [
    {
     "name": "stderr",
     "output_type": "stream",
     "text": [
      "/home/anupam/.condaroot/envs/ml/lib/python3.8/site-packages/pandas/core/frame.py:3607: SettingWithCopyWarning: \n",
      "A value is trying to be set on a copy of a slice from a DataFrame.\n",
      "Try using .loc[row_indexer,col_indexer] = value instead\n",
      "\n",
      "See the caveats in the documentation: https://pandas.pydata.org/pandas-docs/stable/user_guide/indexing.html#returning-a-view-versus-a-copy\n",
      "  self._set_item(key, value)\n"
     ]
    }
   ],
   "source": [
    "ka_CT['TPR'] = ka_CT['delta.confirmed'] / ka_CT['delta.tested']\n",
    "ka_CT['CFR'] = ka_CT['delta.deceased'] / ka_CT['delta.confirmed']"
   ]
  },
  {
   "cell_type": "code",
   "execution_count": 21,
   "metadata": {},
   "outputs": [
    {
     "data": {
      "text/html": [
       "<div>\n",
       "<style scoped>\n",
       "    .dataframe tbody tr th:only-of-type {\n",
       "        vertical-align: middle;\n",
       "    }\n",
       "\n",
       "    .dataframe tbody tr th {\n",
       "        vertical-align: top;\n",
       "    }\n",
       "\n",
       "    .dataframe thead th {\n",
       "        text-align: right;\n",
       "    }\n",
       "</style>\n",
       "<table border=\"1\" class=\"dataframe\">\n",
       "  <thead>\n",
       "    <tr style=\"text-align: right;\">\n",
       "      <th></th>\n",
       "      <th>delta.confirmed</th>\n",
       "      <th>delta.tested</th>\n",
       "      <th>delta.deceased</th>\n",
       "      <th>TPR</th>\n",
       "      <th>CFR</th>\n",
       "    </tr>\n",
       "    <tr>\n",
       "      <th>date</th>\n",
       "      <th></th>\n",
       "      <th></th>\n",
       "      <th></th>\n",
       "      <th></th>\n",
       "      <th></th>\n",
       "    </tr>\n",
       "  </thead>\n",
       "  <tbody>\n",
       "    <tr>\n",
       "      <th>2020-03-09</th>\n",
       "      <td>1.0</td>\n",
       "      <td>NaN</td>\n",
       "      <td>NaN</td>\n",
       "      <td>NaN</td>\n",
       "      <td>NaN</td>\n",
       "    </tr>\n",
       "    <tr>\n",
       "      <th>2020-03-10</th>\n",
       "      <td>3.0</td>\n",
       "      <td>NaN</td>\n",
       "      <td>NaN</td>\n",
       "      <td>NaN</td>\n",
       "      <td>NaN</td>\n",
       "    </tr>\n",
       "    <tr>\n",
       "      <th>2020-03-11</th>\n",
       "      <td>NaN</td>\n",
       "      <td>NaN</td>\n",
       "      <td>NaN</td>\n",
       "      <td>NaN</td>\n",
       "      <td>NaN</td>\n",
       "    </tr>\n",
       "    <tr>\n",
       "      <th>2020-03-12</th>\n",
       "      <td>1.0</td>\n",
       "      <td>NaN</td>\n",
       "      <td>NaN</td>\n",
       "      <td>NaN</td>\n",
       "      <td>NaN</td>\n",
       "    </tr>\n",
       "    <tr>\n",
       "      <th>2020-03-13</th>\n",
       "      <td>1.0</td>\n",
       "      <td>NaN</td>\n",
       "      <td>1.0</td>\n",
       "      <td>NaN</td>\n",
       "      <td>1.000000</td>\n",
       "    </tr>\n",
       "    <tr>\n",
       "      <th>...</th>\n",
       "      <td>...</td>\n",
       "      <td>...</td>\n",
       "      <td>...</td>\n",
       "      <td>...</td>\n",
       "      <td>...</td>\n",
       "    </tr>\n",
       "    <tr>\n",
       "      <th>2021-07-20</th>\n",
       "      <td>1464.0</td>\n",
       "      <td>113456.0</td>\n",
       "      <td>29.0</td>\n",
       "      <td>0.012904</td>\n",
       "      <td>0.019809</td>\n",
       "    </tr>\n",
       "    <tr>\n",
       "      <th>2021-07-21</th>\n",
       "      <td>1639.0</td>\n",
       "      <td>152714.0</td>\n",
       "      <td>36.0</td>\n",
       "      <td>0.010732</td>\n",
       "      <td>0.021965</td>\n",
       "    </tr>\n",
       "    <tr>\n",
       "      <th>2021-07-22</th>\n",
       "      <td>1653.0</td>\n",
       "      <td>140343.0</td>\n",
       "      <td>31.0</td>\n",
       "      <td>0.011778</td>\n",
       "      <td>0.018754</td>\n",
       "    </tr>\n",
       "    <tr>\n",
       "      <th>2021-07-23</th>\n",
       "      <td>1705.0</td>\n",
       "      <td>125426.0</td>\n",
       "      <td>30.0</td>\n",
       "      <td>0.013594</td>\n",
       "      <td>0.017595</td>\n",
       "    </tr>\n",
       "    <tr>\n",
       "      <th>2021-07-24</th>\n",
       "      <td>1857.0</td>\n",
       "      <td>153415.0</td>\n",
       "      <td>29.0</td>\n",
       "      <td>0.012104</td>\n",
       "      <td>0.015617</td>\n",
       "    </tr>\n",
       "  </tbody>\n",
       "</table>\n",
       "<p>503 rows × 5 columns</p>\n",
       "</div>"
      ],
      "text/plain": [
       "            delta.confirmed  delta.tested  delta.deceased       TPR       CFR\n",
       "date                                                                         \n",
       "2020-03-09              1.0           NaN             NaN       NaN       NaN\n",
       "2020-03-10              3.0           NaN             NaN       NaN       NaN\n",
       "2020-03-11              NaN           NaN             NaN       NaN       NaN\n",
       "2020-03-12              1.0           NaN             NaN       NaN       NaN\n",
       "2020-03-13              1.0           NaN             1.0       NaN  1.000000\n",
       "...                     ...           ...             ...       ...       ...\n",
       "2021-07-20           1464.0      113456.0            29.0  0.012904  0.019809\n",
       "2021-07-21           1639.0      152714.0            36.0  0.010732  0.021965\n",
       "2021-07-22           1653.0      140343.0            31.0  0.011778  0.018754\n",
       "2021-07-23           1705.0      125426.0            30.0  0.013594  0.017595\n",
       "2021-07-24           1857.0      153415.0            29.0  0.012104  0.015617\n",
       "\n",
       "[503 rows x 5 columns]"
      ]
     },
     "execution_count": 21,
     "metadata": {},
     "output_type": "execute_result"
    }
   ],
   "source": [
    "ka_CT"
   ]
  },
  {
   "cell_type": "code",
   "execution_count": 24,
   "metadata": {},
   "outputs": [
    {
     "data": {
      "application/vnd.jupyter.widget-view+json": {
       "model_id": "f7b670ea659f481ca5d819081f3164e4",
       "version_major": 2,
       "version_minor": 0
      },
      "text/plain": [
       "Canvas(toolbar=Toolbar(toolitems=[('Home', 'Reset original view', 'home', 'home'), ('Back', 'Back to previous …"
      ]
     },
     "metadata": {},
     "output_type": "display_data"
    },
    {
     "data": {
      "text/plain": [
       "<AxesSubplot:xlabel='date'>"
      ]
     },
     "execution_count": 24,
     "metadata": {},
     "output_type": "execute_result"
    }
   ],
   "source": [
    "%matplotlib widget\n",
    "ka_CT['TPR'].plot(style='r-', label='TPR', legend=True)\n",
    "ka_CT['CFR'].loc['2020-03-14':].plot(style='g-', label='CFR', legend=True)"
   ]
  },
  {
   "cell_type": "code",
   "execution_count": 46,
   "metadata": {},
   "outputs": [],
   "source": [
    "from pytorch_lightning.callbacks import EarlyStopping\n",
    "import torch\n",
    "import pytorch_lightning as pl\n",
    "\n",
    "from pytorch_forecasting import Baseline, NBeats, TimeSeriesDataSet\n",
    "from pytorch_forecasting.data import NaNLabelEncoder\n",
    "from pytorch_forecasting.data.examples import generate_ar_data\n",
    "from pytorch_forecasting.metrics import SMAPE"
   ]
  },
  {
   "cell_type": "code",
   "execution_count": 132,
   "metadata": {},
   "outputs": [
    {
     "name": "stderr",
     "output_type": "stream",
     "text": [
      "Global seed set to 42\n"
     ]
    },
    {
     "data": {
      "text/plain": [
       "42"
      ]
     },
     "execution_count": 132,
     "metadata": {},
     "output_type": "execute_result"
    }
   ],
   "source": [
    "pl.seed_everything(42)"
   ]
  },
  {
   "cell_type": "code",
   "execution_count": 133,
   "metadata": {},
   "outputs": [],
   "source": [
    "tpr = ka_CT.drop(['delta.confirmed', 'delta.tested', 'delta.deceased'], axis=1)"
   ]
  },
  {
   "cell_type": "code",
   "execution_count": 134,
   "metadata": {},
   "outputs": [],
   "source": [
    "data = tpr.fillna(0)"
   ]
  },
  {
   "cell_type": "code",
   "execution_count": 135,
   "metadata": {},
   "outputs": [],
   "source": [
    "data['time_idx'] = np.arange(len(data))"
   ]
  },
  {
   "cell_type": "code",
   "execution_count": 136,
   "metadata": {},
   "outputs": [],
   "source": [
    "data['series'] = 0"
   ]
  },
  {
   "cell_type": "code",
   "execution_count": 203,
   "metadata": {},
   "outputs": [],
   "source": [
    "# create dataset and dataloaders\n",
    "max_encoder_length = 42\n",
    "max_prediction_length = 14\n",
    "\n",
    "training_cutoff = data[\"time_idx\"].max() - max_prediction_length\n",
    "\n",
    "context_length = max_encoder_length\n",
    "prediction_length = max_prediction_length\n",
    "\n",
    "training = TimeSeriesDataSet(\n",
    "    data[lambda x: x.time_idx <= training_cutoff],\n",
    "    time_idx=\"time_idx\",\n",
    "    target=\"TPR\",\n",
    "    group_ids=[\"series\"],\n",
    "    # only unknown variable is \"value\" - and N-Beats can also not take any additional variables\n",
    "    time_varying_unknown_reals=[\"TPR\"],\n",
    "    max_encoder_length=context_length,\n",
    "    max_prediction_length=prediction_length,\n",
    ")\n",
    "\n",
    "validation = TimeSeriesDataSet.from_dataset(training, data, min_prediction_idx=training_cutoff + 1)\n",
    "batch_size = 128\n",
    "train_dataloader = training.to_dataloader(train=True, batch_size=batch_size, num_workers=4)\n",
    "val_dataloader = validation.to_dataloader(train=False, batch_size=batch_size, num_workers=4)"
   ]
  },
  {
   "cell_type": "code",
   "execution_count": 204,
   "metadata": {},
   "outputs": [
    {
     "data": {
      "text/plain": [
       "tensor(0.1828)"
      ]
     },
     "execution_count": 204,
     "metadata": {},
     "output_type": "execute_result"
    }
   ],
   "source": [
    "# calculate baseline absolute error\n",
    "actuals = torch.cat([y[0] for x, y in iter(val_dataloader)])\n",
    "baseline_predictions = Baseline().predict(val_dataloader)\n",
    "SMAPE()(baseline_predictions, actuals)"
   ]
  },
  {
   "cell_type": "code",
   "execution_count": 205,
   "metadata": {},
   "outputs": [
    {
     "name": "stderr",
     "output_type": "stream",
     "text": [
      "GPU available: False, used: False\n",
      "TPU available: False, using: 0 TPU cores\n"
     ]
    }
   ],
   "source": [
    "trainer = pl.Trainer(gpus=0, gradient_clip_val=0.01)\n",
    "net = NBeats.from_dataset(training, learning_rate=3e-2, weight_decay=1e-2, widths=[32, 512], backcast_loss_ratio=0.1)"
   ]
  },
  {
   "cell_type": "code",
   "execution_count": 206,
   "metadata": {},
   "outputs": [
    {
     "name": "stderr",
     "output_type": "stream",
     "text": [
      "\n",
      "  | Name            | Type       | Params\n",
      "-----------------------------------------------\n",
      "0 | loss            | MASE       | 0     \n",
      "1 | logging_metrics | ModuleList | 0     \n",
      "2 | net_blocks      | ModuleList | 1.7 M \n",
      "-----------------------------------------------\n",
      "1.7 M     Trainable params\n",
      "0         Non-trainable params\n",
      "1.7 M     Total params\n",
      "6.697     Total estimated model params size (MB)\n",
      "Global seed set to 42\n"
     ]
    },
    {
     "data": {
      "application/vnd.jupyter.widget-view+json": {
       "model_id": "f642ffedcedf411f82106a1dbdaa6ae5",
       "version_major": 2,
       "version_minor": 0
      },
      "text/plain": [
       "Finding best initial lr:   0%|          | 0/100 [00:00<?, ?it/s]"
      ]
     },
     "metadata": {},
     "output_type": "display_data"
    },
    {
     "name": "stdout",
     "output_type": "stream",
     "text": [
      "--------------------------------------------------------------------------------\n",
      "DATALOADER:0 VALIDATE RESULTS\n",
      "{}\n",
      "--------------------------------------------------------------------------------\n",
      "--------------------------------------------------------------------------------\n",
      "DATALOADER:0 VALIDATE RESULTS\n",
      "{}\n",
      "--------------------------------------------------------------------------------\n",
      "--------------------------------------------------------------------------------\n",
      "DATALOADER:0 VALIDATE RESULTS\n",
      "{}\n",
      "--------------------------------------------------------------------------------\n",
      "--------------------------------------------------------------------------------\n",
      "DATALOADER:0 VALIDATE RESULTS\n",
      "{}\n",
      "--------------------------------------------------------------------------------\n",
      "--------------------------------------------------------------------------------\n",
      "DATALOADER:0 VALIDATE RESULTS\n",
      "{}\n",
      "--------------------------------------------------------------------------------\n",
      "--------------------------------------------------------------------------------\n",
      "DATALOADER:0 VALIDATE RESULTS\n",
      "{}\n",
      "--------------------------------------------------------------------------------\n",
      "--------------------------------------------------------------------------------\n",
      "DATALOADER:0 VALIDATE RESULTS\n",
      "{}\n",
      "--------------------------------------------------------------------------------\n",
      "--------------------------------------------------------------------------------\n",
      "DATALOADER:0 VALIDATE RESULTS\n",
      "{}\n",
      "--------------------------------------------------------------------------------\n",
      "--------------------------------------------------------------------------------\n",
      "DATALOADER:0 VALIDATE RESULTS\n",
      "{}\n",
      "--------------------------------------------------------------------------------\n",
      "--------------------------------------------------------------------------------\n",
      "DATALOADER:0 VALIDATE RESULTS\n",
      "{}\n",
      "--------------------------------------------------------------------------------\n",
      "--------------------------------------------------------------------------------\n",
      "DATALOADER:0 VALIDATE RESULTS\n",
      "{}\n",
      "--------------------------------------------------------------------------------\n",
      "--------------------------------------------------------------------------------\n",
      "DATALOADER:0 VALIDATE RESULTS\n",
      "{}\n",
      "--------------------------------------------------------------------------------\n",
      "--------------------------------------------------------------------------------\n",
      "DATALOADER:0 VALIDATE RESULTS\n",
      "{}\n",
      "--------------------------------------------------------------------------------\n",
      "--------------------------------------------------------------------------------\n",
      "DATALOADER:0 VALIDATE RESULTS\n",
      "{}\n",
      "--------------------------------------------------------------------------------\n",
      "--------------------------------------------------------------------------------\n",
      "DATALOADER:0 VALIDATE RESULTS\n",
      "{}\n",
      "--------------------------------------------------------------------------------\n",
      "--------------------------------------------------------------------------------\n",
      "DATALOADER:0 VALIDATE RESULTS\n",
      "{}\n",
      "--------------------------------------------------------------------------------\n",
      "--------------------------------------------------------------------------------\n",
      "DATALOADER:0 VALIDATE RESULTS\n",
      "{}\n",
      "--------------------------------------------------------------------------------\n",
      "--------------------------------------------------------------------------------\n",
      "DATALOADER:0 VALIDATE RESULTS\n",
      "{}\n",
      "--------------------------------------------------------------------------------\n",
      "--------------------------------------------------------------------------------\n",
      "DATALOADER:0 VALIDATE RESULTS\n",
      "{}\n",
      "--------------------------------------------------------------------------------\n",
      "--------------------------------------------------------------------------------\n",
      "DATALOADER:0 VALIDATE RESULTS\n",
      "{}\n",
      "--------------------------------------------------------------------------------\n",
      "--------------------------------------------------------------------------------\n",
      "DATALOADER:0 VALIDATE RESULTS\n",
      "{}\n",
      "--------------------------------------------------------------------------------\n",
      "--------------------------------------------------------------------------------\n",
      "DATALOADER:0 VALIDATE RESULTS\n",
      "{}\n",
      "--------------------------------------------------------------------------------\n",
      "--------------------------------------------------------------------------------\n",
      "DATALOADER:0 VALIDATE RESULTS\n",
      "{}\n",
      "--------------------------------------------------------------------------------\n",
      "--------------------------------------------------------------------------------\n",
      "DATALOADER:0 VALIDATE RESULTS\n",
      "{}\n",
      "--------------------------------------------------------------------------------\n",
      "--------------------------------------------------------------------------------\n",
      "DATALOADER:0 VALIDATE RESULTS\n",
      "{}\n",
      "--------------------------------------------------------------------------------\n",
      "--------------------------------------------------------------------------------\n",
      "DATALOADER:0 VALIDATE RESULTS\n",
      "{}\n",
      "--------------------------------------------------------------------------------\n",
      "--------------------------------------------------------------------------------\n",
      "DATALOADER:0 VALIDATE RESULTS\n",
      "{}\n",
      "--------------------------------------------------------------------------------\n",
      "--------------------------------------------------------------------------------\n",
      "DATALOADER:0 VALIDATE RESULTS\n",
      "{}\n",
      "--------------------------------------------------------------------------------\n",
      "--------------------------------------------------------------------------------\n",
      "DATALOADER:0 VALIDATE RESULTS\n",
      "{}\n",
      "--------------------------------------------------------------------------------\n",
      "--------------------------------------------------------------------------------\n",
      "DATALOADER:0 VALIDATE RESULTS\n",
      "{}\n",
      "--------------------------------------------------------------------------------\n",
      "--------------------------------------------------------------------------------\n",
      "DATALOADER:0 VALIDATE RESULTS\n",
      "{}\n",
      "--------------------------------------------------------------------------------\n",
      "--------------------------------------------------------------------------------\n",
      "DATALOADER:0 VALIDATE RESULTS\n",
      "{}\n",
      "--------------------------------------------------------------------------------\n",
      "--------------------------------------------------------------------------------\n",
      "DATALOADER:0 VALIDATE RESULTS\n",
      "{}\n",
      "--------------------------------------------------------------------------------\n"
     ]
    },
    {
     "name": "stderr",
     "output_type": "stream",
     "text": [
      "Restored states from the checkpoint file at /home/anupam/src/pysrc/covid_modeling/lr_find_temp_model.ckpt\n"
     ]
    },
    {
     "name": "stdout",
     "output_type": "stream",
     "text": [
      "suggested learning rate: 0.0446683592150963\n"
     ]
    },
    {
     "data": {
      "application/vnd.jupyter.widget-view+json": {
       "model_id": "231b205d869c441f95687d25c21596b4",
       "version_major": 2,
       "version_minor": 0
      },
      "text/plain": [
       "Canvas(toolbar=Toolbar(toolitems=[('Home', 'Reset original view', 'home', 'home'), ('Back', 'Back to previous …"
      ]
     },
     "metadata": {},
     "output_type": "display_data"
    }
   ],
   "source": [
    "# find optimal learning rate\n",
    "res = trainer.tuner.lr_find(net, train_dataloader=train_dataloader, val_dataloaders=val_dataloader, min_lr=1e-5)\n",
    "print(f\"suggested learning rate: {res.suggestion()}\")\n",
    "fig = res.plot(show=True, suggest=True)\n",
    "fig.show()\n",
    "net.hparams.learning_rate = res.suggestion()"
   ]
  },
  {
   "cell_type": "code",
   "execution_count": 207,
   "metadata": {},
   "outputs": [
    {
     "name": "stderr",
     "output_type": "stream",
     "text": [
      "GPU available: False, used: False\n",
      "TPU available: False, using: 0 TPU cores\n",
      "/home/anupam/.condaroot/envs/ml/lib/python3.8/site-packages/pytorch_lightning/core/saving.py:402: UserWarning: Skipping 'loss' parameter because it is not possible to safely dump to YAML.\n",
      "  warn(f\"Skipping '{k}' parameter because it is not possible to safely dump to YAML.\")\n",
      "/home/anupam/.condaroot/envs/ml/lib/python3.8/site-packages/pytorch_lightning/core/saving.py:402: UserWarning: Skipping 'logging_metrics' parameter because it is not possible to safely dump to YAML.\n",
      "  warn(f\"Skipping '{k}' parameter because it is not possible to safely dump to YAML.\")\n",
      "\n",
      "  | Name            | Type       | Params\n",
      "-----------------------------------------------\n",
      "0 | loss            | MASE       | 0     \n",
      "1 | logging_metrics | ModuleList | 0     \n",
      "2 | net_blocks      | ModuleList | 1.7 M \n",
      "-----------------------------------------------\n",
      "1.7 M     Trainable params\n",
      "0         Non-trainable params\n",
      "1.7 M     Total params\n",
      "6.697     Total estimated model params size (MB)\n"
     ]
    },
    {
     "data": {
      "application/vnd.jupyter.widget-view+json": {
       "model_id": "",
       "version_major": 2,
       "version_minor": 0
      },
      "text/plain": [
       "Validation sanity check: 0it [00:00, ?it/s]"
      ]
     },
     "metadata": {},
     "output_type": "display_data"
    },
    {
     "name": "stderr",
     "output_type": "stream",
     "text": [
      "Global seed set to 42\n"
     ]
    },
    {
     "data": {
      "application/vnd.jupyter.widget-view+json": {
       "model_id": "439c1991f4dd4bc6a6d84a7f72c51d5b",
       "version_major": 2,
       "version_minor": 0
      },
      "text/plain": [
       "Training: 0it [00:00, ?it/s]"
      ]
     },
     "metadata": {},
     "output_type": "display_data"
    },
    {
     "data": {
      "application/vnd.jupyter.widget-view+json": {
       "model_id": "",
       "version_major": 2,
       "version_minor": 0
      },
      "text/plain": [
       "Validating: 0it [00:00, ?it/s]"
      ]
     },
     "metadata": {},
     "output_type": "display_data"
    },
    {
     "data": {
      "application/vnd.jupyter.widget-view+json": {
       "model_id": "",
       "version_major": 2,
       "version_minor": 0
      },
      "text/plain": [
       "Validating: 0it [00:00, ?it/s]"
      ]
     },
     "metadata": {},
     "output_type": "display_data"
    },
    {
     "data": {
      "application/vnd.jupyter.widget-view+json": {
       "model_id": "",
       "version_major": 2,
       "version_minor": 0
      },
      "text/plain": [
       "Validating: 0it [00:00, ?it/s]"
      ]
     },
     "metadata": {},
     "output_type": "display_data"
    },
    {
     "data": {
      "application/vnd.jupyter.widget-view+json": {
       "model_id": "",
       "version_major": 2,
       "version_minor": 0
      },
      "text/plain": [
       "Validating: 0it [00:00, ?it/s]"
      ]
     },
     "metadata": {},
     "output_type": "display_data"
    },
    {
     "data": {
      "application/vnd.jupyter.widget-view+json": {
       "model_id": "",
       "version_major": 2,
       "version_minor": 0
      },
      "text/plain": [
       "Validating: 0it [00:00, ?it/s]"
      ]
     },
     "metadata": {},
     "output_type": "display_data"
    },
    {
     "data": {
      "application/vnd.jupyter.widget-view+json": {
       "model_id": "",
       "version_major": 2,
       "version_minor": 0
      },
      "text/plain": [
       "Validating: 0it [00:00, ?it/s]"
      ]
     },
     "metadata": {},
     "output_type": "display_data"
    },
    {
     "data": {
      "application/vnd.jupyter.widget-view+json": {
       "model_id": "",
       "version_major": 2,
       "version_minor": 0
      },
      "text/plain": [
       "Validating: 0it [00:00, ?it/s]"
      ]
     },
     "metadata": {},
     "output_type": "display_data"
    },
    {
     "data": {
      "application/vnd.jupyter.widget-view+json": {
       "model_id": "",
       "version_major": 2,
       "version_minor": 0
      },
      "text/plain": [
       "Validating: 0it [00:00, ?it/s]"
      ]
     },
     "metadata": {},
     "output_type": "display_data"
    },
    {
     "data": {
      "application/vnd.jupyter.widget-view+json": {
       "model_id": "",
       "version_major": 2,
       "version_minor": 0
      },
      "text/plain": [
       "Validating: 0it [00:00, ?it/s]"
      ]
     },
     "metadata": {},
     "output_type": "display_data"
    },
    {
     "data": {
      "application/vnd.jupyter.widget-view+json": {
       "model_id": "",
       "version_major": 2,
       "version_minor": 0
      },
      "text/plain": [
       "Validating: 0it [00:00, ?it/s]"
      ]
     },
     "metadata": {},
     "output_type": "display_data"
    },
    {
     "data": {
      "application/vnd.jupyter.widget-view+json": {
       "model_id": "",
       "version_major": 2,
       "version_minor": 0
      },
      "text/plain": [
       "Validating: 0it [00:00, ?it/s]"
      ]
     },
     "metadata": {},
     "output_type": "display_data"
    },
    {
     "data": {
      "application/vnd.jupyter.widget-view+json": {
       "model_id": "",
       "version_major": 2,
       "version_minor": 0
      },
      "text/plain": [
       "Validating: 0it [00:00, ?it/s]"
      ]
     },
     "metadata": {},
     "output_type": "display_data"
    },
    {
     "data": {
      "application/vnd.jupyter.widget-view+json": {
       "model_id": "",
       "version_major": 2,
       "version_minor": 0
      },
      "text/plain": [
       "Validating: 0it [00:00, ?it/s]"
      ]
     },
     "metadata": {},
     "output_type": "display_data"
    },
    {
     "data": {
      "application/vnd.jupyter.widget-view+json": {
       "model_id": "",
       "version_major": 2,
       "version_minor": 0
      },
      "text/plain": [
       "Validating: 0it [00:00, ?it/s]"
      ]
     },
     "metadata": {},
     "output_type": "display_data"
    },
    {
     "data": {
      "application/vnd.jupyter.widget-view+json": {
       "model_id": "",
       "version_major": 2,
       "version_minor": 0
      },
      "text/plain": [
       "Validating: 0it [00:00, ?it/s]"
      ]
     },
     "metadata": {},
     "output_type": "display_data"
    },
    {
     "data": {
      "application/vnd.jupyter.widget-view+json": {
       "model_id": "",
       "version_major": 2,
       "version_minor": 0
      },
      "text/plain": [
       "Validating: 0it [00:00, ?it/s]"
      ]
     },
     "metadata": {},
     "output_type": "display_data"
    },
    {
     "data": {
      "application/vnd.jupyter.widget-view+json": {
       "model_id": "",
       "version_major": 2,
       "version_minor": 0
      },
      "text/plain": [
       "Validating: 0it [00:00, ?it/s]"
      ]
     },
     "metadata": {},
     "output_type": "display_data"
    },
    {
     "data": {
      "application/vnd.jupyter.widget-view+json": {
       "model_id": "",
       "version_major": 2,
       "version_minor": 0
      },
      "text/plain": [
       "Validating: 0it [00:00, ?it/s]"
      ]
     },
     "metadata": {},
     "output_type": "display_data"
    },
    {
     "data": {
      "application/vnd.jupyter.widget-view+json": {
       "model_id": "",
       "version_major": 2,
       "version_minor": 0
      },
      "text/plain": [
       "Validating: 0it [00:00, ?it/s]"
      ]
     },
     "metadata": {},
     "output_type": "display_data"
    },
    {
     "data": {
      "application/vnd.jupyter.widget-view+json": {
       "model_id": "",
       "version_major": 2,
       "version_minor": 0
      },
      "text/plain": [
       "Validating: 0it [00:00, ?it/s]"
      ]
     },
     "metadata": {},
     "output_type": "display_data"
    },
    {
     "data": {
      "application/vnd.jupyter.widget-view+json": {
       "model_id": "",
       "version_major": 2,
       "version_minor": 0
      },
      "text/plain": [
       "Validating: 0it [00:00, ?it/s]"
      ]
     },
     "metadata": {},
     "output_type": "display_data"
    },
    {
     "data": {
      "application/vnd.jupyter.widget-view+json": {
       "model_id": "",
       "version_major": 2,
       "version_minor": 0
      },
      "text/plain": [
       "Validating: 0it [00:00, ?it/s]"
      ]
     },
     "metadata": {},
     "output_type": "display_data"
    },
    {
     "data": {
      "application/vnd.jupyter.widget-view+json": {
       "model_id": "",
       "version_major": 2,
       "version_minor": 0
      },
      "text/plain": [
       "Validating: 0it [00:00, ?it/s]"
      ]
     },
     "metadata": {},
     "output_type": "display_data"
    },
    {
     "data": {
      "application/vnd.jupyter.widget-view+json": {
       "model_id": "",
       "version_major": 2,
       "version_minor": 0
      },
      "text/plain": [
       "Validating: 0it [00:00, ?it/s]"
      ]
     },
     "metadata": {},
     "output_type": "display_data"
    },
    {
     "data": {
      "application/vnd.jupyter.widget-view+json": {
       "model_id": "",
       "version_major": 2,
       "version_minor": 0
      },
      "text/plain": [
       "Validating: 0it [00:00, ?it/s]"
      ]
     },
     "metadata": {},
     "output_type": "display_data"
    },
    {
     "data": {
      "application/vnd.jupyter.widget-view+json": {
       "model_id": "",
       "version_major": 2,
       "version_minor": 0
      },
      "text/plain": [
       "Validating: 0it [00:00, ?it/s]"
      ]
     },
     "metadata": {},
     "output_type": "display_data"
    }
   ],
   "source": [
    "%matplotlib inline\n",
    "\n",
    "early_stop_callback = EarlyStopping(monitor=\"val_loss\", min_delta=1e-4, patience=10, verbose=False, mode=\"min\")\n",
    "\n",
    "trainer = pl.Trainer(\n",
    "    max_epochs=100,\n",
    "    gpus=0,\n",
    "    weights_summary=\"top\",\n",
    "    gradient_clip_val=0.01,\n",
    "    callbacks=[early_stop_callback],\n",
    "    limit_train_batches=50,\n",
    ")\n",
    "\n",
    "\n",
    "net = NBeats.from_dataset(\n",
    "    training,\n",
    "    learning_rate=2.3e-2,\n",
    "    log_interval=10,\n",
    "    log_val_interval=1,\n",
    "    weight_decay=1e-2,\n",
    "    widths=[32, 512],\n",
    "    backcast_loss_ratio=1.0,\n",
    ")\n",
    "\n",
    "trainer.fit(\n",
    "    net,\n",
    "    train_dataloader=train_dataloader,\n",
    "    val_dataloaders=val_dataloader,\n",
    ")"
   ]
  },
  {
   "cell_type": "code",
   "execution_count": 208,
   "metadata": {},
   "outputs": [],
   "source": [
    "best_model_path = trainer.checkpoint_callback.best_model_path\n",
    "best_model = NBeats.load_from_checkpoint(best_model_path)"
   ]
  },
  {
   "cell_type": "code",
   "execution_count": 209,
   "metadata": {},
   "outputs": [
    {
     "data": {
      "text/plain": [
       "tensor(0.0018)"
      ]
     },
     "execution_count": 209,
     "metadata": {},
     "output_type": "execute_result"
    }
   ],
   "source": [
    "actuals = torch.cat([y[0] for x, y in iter(val_dataloader)])\n",
    "predictions = best_model.predict(val_dataloader)\n",
    "(actuals - predictions).abs().mean()"
   ]
  },
  {
   "cell_type": "code",
   "execution_count": 210,
   "metadata": {},
   "outputs": [],
   "source": [
    "raw_predictions, x = best_model.predict(val_dataloader, mode=\"raw\", return_x=True)"
   ]
  },
  {
   "cell_type": "code",
   "execution_count": 243,
   "metadata": {},
   "outputs": [
    {
     "data": {
      "application/vnd.jupyter.widget-view+json": {
       "model_id": "b8c2dc9501b44be9a59b8a8e92b2d13f",
       "version_major": 2,
       "version_minor": 0
      },
      "text/plain": [
       "Canvas(toolbar=Toolbar(toolitems=[('Home', 'Reset original view', 'home', 'home'), ('Back', 'Back to previous …"
      ]
     },
     "metadata": {},
     "output_type": "display_data"
    },
    {
     "data": {
      "image/png": "[encoded data removed]",
      "text/plain": [
       "<Figure size 432x288 with 1 Axes>"
      ]
     },
     "execution_count": 243,
     "metadata": {},
     "output_type": "execute_result"
    }
   ],
   "source": [
    "%matplotlib widget\n",
    "best_model.plot_prediction(x, raw_predictions, idx=0, add_loss_to_title=True)"
   ]
  },
  {
   "cell_type": "code",
   "execution_count": 212,
   "metadata": {},
   "outputs": [
    {
     "data": {
      "application/vnd.jupyter.widget-view+json": {
       "model_id": "43577e143df041888b32a79af89ef07a",
       "version_major": 2,
       "version_minor": 0
      },
      "text/plain": [
       "Canvas(toolbar=Toolbar(toolitems=[('Home', 'Reset original view', 'home', 'home'), ('Back', 'Back to previous …"
      ]
     },
     "metadata": {},
     "output_type": "display_data"
    },
    {
     "data": {
      "image/png": "[encoded data removed]",
      "text/plain": [
       "<Figure size 432x576 with 2 Axes>"
      ]
     },
     "execution_count": 212,
     "metadata": {},
     "output_type": "execute_result"
    }
   ],
   "source": [
    "best_model.plot_interpretation(x, raw_predictions, idx=0)"
   ]
  },
  {
   "cell_type": "markdown",
   "metadata": {},
   "source": [
    "## Predict on new data"
   ]
  },
  {
   "cell_type": "code",
   "execution_count": 213,
   "metadata": {},
   "outputs": [],
   "source": [
    "encoder_data = data[lambda x: x.time_idx > x.time_idx.max() - max_encoder_length]"
   ]
  },
  {
   "cell_type": "code",
   "execution_count": 214,
   "metadata": {},
   "outputs": [
    {
     "data": {
      "text/html": [
       "<div>\n",
       "<style scoped>\n",
       "    .dataframe tbody tr th:only-of-type {\n",
       "        vertical-align: middle;\n",
       "    }\n",
       "\n",
       "    .dataframe tbody tr th {\n",
       "        vertical-align: top;\n",
       "    }\n",
       "\n",
       "    .dataframe thead th {\n",
       "        text-align: right;\n",
       "    }\n",
       "</style>\n",
       "<table border=\"1\" class=\"dataframe\">\n",
       "  <thead>\n",
       "    <tr style=\"text-align: right;\">\n",
       "      <th></th>\n",
       "      <th>TPR</th>\n",
       "      <th>CFR</th>\n",
       "      <th>time_idx</th>\n",
       "      <th>series</th>\n",
       "    </tr>\n",
       "    <tr>\n",
       "      <th>date</th>\n",
       "      <th></th>\n",
       "      <th></th>\n",
       "      <th></th>\n",
       "      <th></th>\n",
       "    </tr>\n",
       "  </thead>\n",
       "  <tbody>\n",
       "    <tr>\n",
       "      <th>2021-06-13</th>\n",
       "      <td>0.060254</td>\n",
       "      <td>0.016005</td>\n",
       "      <td>461</td>\n",
       "      <td>0</td>\n",
       "    </tr>\n",
       "    <tr>\n",
       "      <th>2021-06-14</th>\n",
       "      <td>0.045645</td>\n",
       "      <td>0.017557</td>\n",
       "      <td>462</td>\n",
       "      <td>0</td>\n",
       "    </tr>\n",
       "    <tr>\n",
       "      <th>2021-06-15</th>\n",
       "      <td>0.038017</td>\n",
       "      <td>0.022813</td>\n",
       "      <td>463</td>\n",
       "      <td>0</td>\n",
       "    </tr>\n",
       "    <tr>\n",
       "      <th>2021-06-16</th>\n",
       "      <td>0.043536</td>\n",
       "      <td>0.020150</td>\n",
       "      <td>464</td>\n",
       "      <td>0</td>\n",
       "    </tr>\n",
       "    <tr>\n",
       "      <th>2021-06-17</th>\n",
       "      <td>0.037761</td>\n",
       "      <td>0.023065</td>\n",
       "      <td>465</td>\n",
       "      <td>0</td>\n",
       "    </tr>\n",
       "    <tr>\n",
       "      <th>2021-06-18</th>\n",
       "      <td>0.040583</td>\n",
       "      <td>0.029051</td>\n",
       "      <td>466</td>\n",
       "      <td>0</td>\n",
       "    </tr>\n",
       "    <tr>\n",
       "      <th>2021-06-19</th>\n",
       "      <td>0.033854</td>\n",
       "      <td>0.027687</td>\n",
       "      <td>467</td>\n",
       "      <td>0</td>\n",
       "    </tr>\n",
       "    <tr>\n",
       "      <th>2021-06-20</th>\n",
       "      <td>0.025882</td>\n",
       "      <td>0.026566</td>\n",
       "      <td>468</td>\n",
       "      <td>0</td>\n",
       "    </tr>\n",
       "    <tr>\n",
       "      <th>2021-06-21</th>\n",
       "      <td>0.032505</td>\n",
       "      <td>0.029176</td>\n",
       "      <td>469</td>\n",
       "      <td>0</td>\n",
       "    </tr>\n",
       "    <tr>\n",
       "      <th>2021-06-22</th>\n",
       "      <td>0.028730</td>\n",
       "      <td>0.037476</td>\n",
       "      <td>470</td>\n",
       "      <td>0</td>\n",
       "    </tr>\n",
       "    <tr>\n",
       "      <th>2021-06-23</th>\n",
       "      <td>0.025994</td>\n",
       "      <td>0.027728</td>\n",
       "      <td>471</td>\n",
       "      <td>0</td>\n",
       "    </tr>\n",
       "    <tr>\n",
       "      <th>2021-06-24</th>\n",
       "      <td>0.024670</td>\n",
       "      <td>0.034682</td>\n",
       "      <td>472</td>\n",
       "      <td>0</td>\n",
       "    </tr>\n",
       "    <tr>\n",
       "      <th>2021-06-25</th>\n",
       "      <td>0.020940</td>\n",
       "      <td>0.034441</td>\n",
       "      <td>473</td>\n",
       "      <td>0</td>\n",
       "    </tr>\n",
       "    <tr>\n",
       "      <th>2021-06-26</th>\n",
       "      <td>0.025889</td>\n",
       "      <td>0.026919</td>\n",
       "      <td>474</td>\n",
       "      <td>0</td>\n",
       "    </tr>\n",
       "    <tr>\n",
       "      <th>2021-06-27</th>\n",
       "      <td>0.021891</td>\n",
       "      <td>0.024695</td>\n",
       "      <td>475</td>\n",
       "      <td>0</td>\n",
       "    </tr>\n",
       "    <tr>\n",
       "      <th>2021-06-28</th>\n",
       "      <td>0.019236</td>\n",
       "      <td>0.036102</td>\n",
       "      <td>476</td>\n",
       "      <td>0</td>\n",
       "    </tr>\n",
       "    <tr>\n",
       "      <th>2021-06-29</th>\n",
       "      <td>0.025436</td>\n",
       "      <td>0.028864</td>\n",
       "      <td>477</td>\n",
       "      <td>0</td>\n",
       "    </tr>\n",
       "    <tr>\n",
       "      <th>2021-06-30</th>\n",
       "      <td>0.019765</td>\n",
       "      <td>0.032821</td>\n",
       "      <td>478</td>\n",
       "      <td>0</td>\n",
       "    </tr>\n",
       "    <tr>\n",
       "      <th>2021-07-01</th>\n",
       "      <td>0.020522</td>\n",
       "      <td>0.029347</td>\n",
       "      <td>479</td>\n",
       "      <td>0</td>\n",
       "    </tr>\n",
       "    <tr>\n",
       "      <th>2021-07-02</th>\n",
       "      <td>0.019239</td>\n",
       "      <td>0.029491</td>\n",
       "      <td>480</td>\n",
       "      <td>0</td>\n",
       "    </tr>\n",
       "    <tr>\n",
       "      <th>2021-07-03</th>\n",
       "      <td>0.013462</td>\n",
       "      <td>0.041306</td>\n",
       "      <td>481</td>\n",
       "      <td>0</td>\n",
       "    </tr>\n",
       "    <tr>\n",
       "      <th>2021-07-04</th>\n",
       "      <td>0.010217</td>\n",
       "      <td>0.037724</td>\n",
       "      <td>482</td>\n",
       "      <td>0</td>\n",
       "    </tr>\n",
       "    <tr>\n",
       "      <th>2021-07-05</th>\n",
       "      <td>0.019430</td>\n",
       "      <td>0.023525</td>\n",
       "      <td>483</td>\n",
       "      <td>0</td>\n",
       "    </tr>\n",
       "    <tr>\n",
       "      <th>2021-07-06</th>\n",
       "      <td>0.026550</td>\n",
       "      <td>0.029639</td>\n",
       "      <td>484</td>\n",
       "      <td>0</td>\n",
       "    </tr>\n",
       "    <tr>\n",
       "      <th>2021-07-07</th>\n",
       "      <td>0.016462</td>\n",
       "      <td>0.027342</td>\n",
       "      <td>485</td>\n",
       "      <td>0</td>\n",
       "    </tr>\n",
       "    <tr>\n",
       "      <th>2021-07-08</th>\n",
       "      <td>0.016058</td>\n",
       "      <td>0.024506</td>\n",
       "      <td>486</td>\n",
       "      <td>0</td>\n",
       "    </tr>\n",
       "    <tr>\n",
       "      <th>2021-07-09</th>\n",
       "      <td>0.014895</td>\n",
       "      <td>0.029694</td>\n",
       "      <td>487</td>\n",
       "      <td>0</td>\n",
       "    </tr>\n",
       "    <tr>\n",
       "      <th>2021-07-10</th>\n",
       "      <td>0.014842</td>\n",
       "      <td>0.022202</td>\n",
       "      <td>488</td>\n",
       "      <td>0</td>\n",
       "    </tr>\n",
       "    <tr>\n",
       "      <th>2021-07-11</th>\n",
       "      <td>0.012448</td>\n",
       "      <td>0.028311</td>\n",
       "      <td>489</td>\n",
       "      <td>0</td>\n",
       "    </tr>\n",
       "    <tr>\n",
       "      <th>2021-07-12</th>\n",
       "      <td>0.012669</td>\n",
       "      <td>0.044012</td>\n",
       "      <td>490</td>\n",
       "      <td>0</td>\n",
       "    </tr>\n",
       "    <tr>\n",
       "      <th>2021-07-13</th>\n",
       "      <td>0.015354</td>\n",
       "      <td>0.025091</td>\n",
       "      <td>491</td>\n",
       "      <td>0</td>\n",
       "    </tr>\n",
       "    <tr>\n",
       "      <th>2021-07-14</th>\n",
       "      <td>0.015985</td>\n",
       "      <td>0.022613</td>\n",
       "      <td>492</td>\n",
       "      <td>0</td>\n",
       "    </tr>\n",
       "    <tr>\n",
       "      <th>2021-07-15</th>\n",
       "      <td>0.014298</td>\n",
       "      <td>0.024279</td>\n",
       "      <td>493</td>\n",
       "      <td>0</td>\n",
       "    </tr>\n",
       "    <tr>\n",
       "      <th>2021-07-16</th>\n",
       "      <td>0.011811</td>\n",
       "      <td>0.023256</td>\n",
       "      <td>494</td>\n",
       "      <td>0</td>\n",
       "    </tr>\n",
       "    <tr>\n",
       "      <th>2021-07-17</th>\n",
       "      <td>0.013083</td>\n",
       "      <td>0.022472</td>\n",
       "      <td>495</td>\n",
       "      <td>0</td>\n",
       "    </tr>\n",
       "    <tr>\n",
       "      <th>2021-07-18</th>\n",
       "      <td>0.010909</td>\n",
       "      <td>0.021077</td>\n",
       "      <td>496</td>\n",
       "      <td>0</td>\n",
       "    </tr>\n",
       "    <tr>\n",
       "      <th>2021-07-19</th>\n",
       "      <td>0.009494</td>\n",
       "      <td>0.030984</td>\n",
       "      <td>497</td>\n",
       "      <td>0</td>\n",
       "    </tr>\n",
       "    <tr>\n",
       "      <th>2021-07-20</th>\n",
       "      <td>0.012904</td>\n",
       "      <td>0.019809</td>\n",
       "      <td>498</td>\n",
       "      <td>0</td>\n",
       "    </tr>\n",
       "    <tr>\n",
       "      <th>2021-07-21</th>\n",
       "      <td>0.010732</td>\n",
       "      <td>0.021965</td>\n",
       "      <td>499</td>\n",
       "      <td>0</td>\n",
       "    </tr>\n",
       "    <tr>\n",
       "      <th>2021-07-22</th>\n",
       "      <td>0.011778</td>\n",
       "      <td>0.018754</td>\n",
       "      <td>500</td>\n",
       "      <td>0</td>\n",
       "    </tr>\n",
       "    <tr>\n",
       "      <th>2021-07-23</th>\n",
       "      <td>0.013594</td>\n",
       "      <td>0.017595</td>\n",
       "      <td>501</td>\n",
       "      <td>0</td>\n",
       "    </tr>\n",
       "    <tr>\n",
       "      <th>2021-07-24</th>\n",
       "      <td>0.012104</td>\n",
       "      <td>0.015617</td>\n",
       "      <td>502</td>\n",
       "      <td>0</td>\n",
       "    </tr>\n",
       "  </tbody>\n",
       "</table>\n",
       "</div>"
      ],
      "text/plain": [
       "                 TPR       CFR  time_idx  series\n",
       "date                                            \n",
       "2021-06-13  0.060254  0.016005       461       0\n",
       "2021-06-14  0.045645  0.017557       462       0\n",
       "2021-06-15  0.038017  0.022813       463       0\n",
       "2021-06-16  0.043536  0.020150       464       0\n",
       "2021-06-17  0.037761  0.023065       465       0\n",
       "2021-06-18  0.040583  0.029051       466       0\n",
       "2021-06-19  0.033854  0.027687       467       0\n",
       "2021-06-20  0.025882  0.026566       468       0\n",
       "2021-06-21  0.032505  0.029176       469       0\n",
       "2021-06-22  0.028730  0.037476       470       0\n",
       "2021-06-23  0.025994  0.027728       471       0\n",
       "2021-06-24  0.024670  0.034682       472       0\n",
       "2021-06-25  0.020940  0.034441       473       0\n",
       "2021-06-26  0.025889  0.026919       474       0\n",
       "2021-06-27  0.021891  0.024695       475       0\n",
       "2021-06-28  0.019236  0.036102       476       0\n",
       "2021-06-29  0.025436  0.028864       477       0\n",
       "2021-06-30  0.019765  0.032821       478       0\n",
       "2021-07-01  0.020522  0.029347       479       0\n",
       "2021-07-02  0.019239  0.029491       480       0\n",
       "2021-07-03  0.013462  0.041306       481       0\n",
       "2021-07-04  0.010217  0.037724       482       0\n",
       "2021-07-05  0.019430  0.023525       483       0\n",
       "2021-07-06  0.026550  0.029639       484       0\n",
       "2021-07-07  0.016462  0.027342       485       0\n",
       "2021-07-08  0.016058  0.024506       486       0\n",
       "2021-07-09  0.014895  0.029694       487       0\n",
       "2021-07-10  0.014842  0.022202       488       0\n",
       "2021-07-11  0.012448  0.028311       489       0\n",
       "2021-07-12  0.012669  0.044012       490       0\n",
       "2021-07-13  0.015354  0.025091       491       0\n",
       "2021-07-14  0.015985  0.022613       492       0\n",
       "2021-07-15  0.014298  0.024279       493       0\n",
       "2021-07-16  0.011811  0.023256       494       0\n",
       "2021-07-17  0.013083  0.022472       495       0\n",
       "2021-07-18  0.010909  0.021077       496       0\n",
       "2021-07-19  0.009494  0.030984       497       0\n",
       "2021-07-20  0.012904  0.019809       498       0\n",
       "2021-07-21  0.010732  0.021965       499       0\n",
       "2021-07-22  0.011778  0.018754       500       0\n",
       "2021-07-23  0.013594  0.017595       501       0\n",
       "2021-07-24  0.012104  0.015617       502       0"
      ]
     },
     "execution_count": 214,
     "metadata": {},
     "output_type": "execute_result"
    }
   ],
   "source": [
    "encoder_data"
   ]
  },
  {
   "cell_type": "code",
   "execution_count": 215,
   "metadata": {},
   "outputs": [],
   "source": [
    "last_data = data[lambda x: x.time_idx == x.time_idx.max()]"
   ]
  },
  {
   "cell_type": "code",
   "execution_count": 216,
   "metadata": {},
   "outputs": [
    {
     "data": {
      "text/html": [
       "<div>\n",
       "<style scoped>\n",
       "    .dataframe tbody tr th:only-of-type {\n",
       "        vertical-align: middle;\n",
       "    }\n",
       "\n",
       "    .dataframe tbody tr th {\n",
       "        vertical-align: top;\n",
       "    }\n",
       "\n",
       "    .dataframe thead th {\n",
       "        text-align: right;\n",
       "    }\n",
       "</style>\n",
       "<table border=\"1\" class=\"dataframe\">\n",
       "  <thead>\n",
       "    <tr style=\"text-align: right;\">\n",
       "      <th></th>\n",
       "      <th>TPR</th>\n",
       "      <th>CFR</th>\n",
       "      <th>time_idx</th>\n",
       "      <th>series</th>\n",
       "    </tr>\n",
       "    <tr>\n",
       "      <th>date</th>\n",
       "      <th></th>\n",
       "      <th></th>\n",
       "      <th></th>\n",
       "      <th></th>\n",
       "    </tr>\n",
       "  </thead>\n",
       "  <tbody>\n",
       "    <tr>\n",
       "      <th>2021-07-24</th>\n",
       "      <td>0.012104</td>\n",
       "      <td>0.015617</td>\n",
       "      <td>502</td>\n",
       "      <td>0</td>\n",
       "    </tr>\n",
       "  </tbody>\n",
       "</table>\n",
       "</div>"
      ],
      "text/plain": [
       "                 TPR       CFR  time_idx  series\n",
       "date                                            \n",
       "2021-07-24  0.012104  0.015617       502       0"
      ]
     },
     "execution_count": 216,
     "metadata": {},
     "output_type": "execute_result"
    }
   ],
   "source": [
    "last_data"
   ]
  },
  {
   "cell_type": "code",
   "execution_count": 217,
   "metadata": {},
   "outputs": [],
   "source": [
    "decoder_data = pd.concat(\n",
    "    [last_data.assign(date=lambda x: x.index + pd.offsets.Day(i)) for i in range(1, max_prediction_length + 1)],\n",
    "    ignore_index=True,\n",
    ")"
   ]
  },
  {
   "cell_type": "code",
   "execution_count": 218,
   "metadata": {},
   "outputs": [
    {
     "data": {
      "text/html": [
       "<div>\n",
       "<style scoped>\n",
       "    .dataframe tbody tr th:only-of-type {\n",
       "        vertical-align: middle;\n",
       "    }\n",
       "\n",
       "    .dataframe tbody tr th {\n",
       "        vertical-align: top;\n",
       "    }\n",
       "\n",
       "    .dataframe thead th {\n",
       "        text-align: right;\n",
       "    }\n",
       "</style>\n",
       "<table border=\"1\" class=\"dataframe\">\n",
       "  <thead>\n",
       "    <tr style=\"text-align: right;\">\n",
       "      <th></th>\n",
       "      <th>TPR</th>\n",
       "      <th>CFR</th>\n",
       "      <th>time_idx</th>\n",
       "      <th>series</th>\n",
       "      <th>date</th>\n",
       "    </tr>\n",
       "  </thead>\n",
       "  <tbody>\n",
       "    <tr>\n",
       "      <th>0</th>\n",
       "      <td>0.012104</td>\n",
       "      <td>0.015617</td>\n",
       "      <td>502</td>\n",
       "      <td>0</td>\n",
       "      <td>2021-07-25</td>\n",
       "    </tr>\n",
       "    <tr>\n",
       "      <th>1</th>\n",
       "      <td>0.012104</td>\n",
       "      <td>0.015617</td>\n",
       "      <td>502</td>\n",
       "      <td>0</td>\n",
       "      <td>2021-07-26</td>\n",
       "    </tr>\n",
       "    <tr>\n",
       "      <th>2</th>\n",
       "      <td>0.012104</td>\n",
       "      <td>0.015617</td>\n",
       "      <td>502</td>\n",
       "      <td>0</td>\n",
       "      <td>2021-07-27</td>\n",
       "    </tr>\n",
       "    <tr>\n",
       "      <th>3</th>\n",
       "      <td>0.012104</td>\n",
       "      <td>0.015617</td>\n",
       "      <td>502</td>\n",
       "      <td>0</td>\n",
       "      <td>2021-07-28</td>\n",
       "    </tr>\n",
       "    <tr>\n",
       "      <th>4</th>\n",
       "      <td>0.012104</td>\n",
       "      <td>0.015617</td>\n",
       "      <td>502</td>\n",
       "      <td>0</td>\n",
       "      <td>2021-07-29</td>\n",
       "    </tr>\n",
       "    <tr>\n",
       "      <th>5</th>\n",
       "      <td>0.012104</td>\n",
       "      <td>0.015617</td>\n",
       "      <td>502</td>\n",
       "      <td>0</td>\n",
       "      <td>2021-07-30</td>\n",
       "    </tr>\n",
       "    <tr>\n",
       "      <th>6</th>\n",
       "      <td>0.012104</td>\n",
       "      <td>0.015617</td>\n",
       "      <td>502</td>\n",
       "      <td>0</td>\n",
       "      <td>2021-07-31</td>\n",
       "    </tr>\n",
       "    <tr>\n",
       "      <th>7</th>\n",
       "      <td>0.012104</td>\n",
       "      <td>0.015617</td>\n",
       "      <td>502</td>\n",
       "      <td>0</td>\n",
       "      <td>2021-08-01</td>\n",
       "    </tr>\n",
       "    <tr>\n",
       "      <th>8</th>\n",
       "      <td>0.012104</td>\n",
       "      <td>0.015617</td>\n",
       "      <td>502</td>\n",
       "      <td>0</td>\n",
       "      <td>2021-08-02</td>\n",
       "    </tr>\n",
       "    <tr>\n",
       "      <th>9</th>\n",
       "      <td>0.012104</td>\n",
       "      <td>0.015617</td>\n",
       "      <td>502</td>\n",
       "      <td>0</td>\n",
       "      <td>2021-08-03</td>\n",
       "    </tr>\n",
       "    <tr>\n",
       "      <th>10</th>\n",
       "      <td>0.012104</td>\n",
       "      <td>0.015617</td>\n",
       "      <td>502</td>\n",
       "      <td>0</td>\n",
       "      <td>2021-08-04</td>\n",
       "    </tr>\n",
       "    <tr>\n",
       "      <th>11</th>\n",
       "      <td>0.012104</td>\n",
       "      <td>0.015617</td>\n",
       "      <td>502</td>\n",
       "      <td>0</td>\n",
       "      <td>2021-08-05</td>\n",
       "    </tr>\n",
       "    <tr>\n",
       "      <th>12</th>\n",
       "      <td>0.012104</td>\n",
       "      <td>0.015617</td>\n",
       "      <td>502</td>\n",
       "      <td>0</td>\n",
       "      <td>2021-08-06</td>\n",
       "    </tr>\n",
       "    <tr>\n",
       "      <th>13</th>\n",
       "      <td>0.012104</td>\n",
       "      <td>0.015617</td>\n",
       "      <td>502</td>\n",
       "      <td>0</td>\n",
       "      <td>2021-08-07</td>\n",
       "    </tr>\n",
       "  </tbody>\n",
       "</table>\n",
       "</div>"
      ],
      "text/plain": [
       "         TPR       CFR  time_idx  series       date\n",
       "0   0.012104  0.015617       502       0 2021-07-25\n",
       "1   0.012104  0.015617       502       0 2021-07-26\n",
       "2   0.012104  0.015617       502       0 2021-07-27\n",
       "3   0.012104  0.015617       502       0 2021-07-28\n",
       "4   0.012104  0.015617       502       0 2021-07-29\n",
       "5   0.012104  0.015617       502       0 2021-07-30\n",
       "6   0.012104  0.015617       502       0 2021-07-31\n",
       "7   0.012104  0.015617       502       0 2021-08-01\n",
       "8   0.012104  0.015617       502       0 2021-08-02\n",
       "9   0.012104  0.015617       502       0 2021-08-03\n",
       "10  0.012104  0.015617       502       0 2021-08-04\n",
       "11  0.012104  0.015617       502       0 2021-08-05\n",
       "12  0.012104  0.015617       502       0 2021-08-06\n",
       "13  0.012104  0.015617       502       0 2021-08-07"
      ]
     },
     "execution_count": 218,
     "metadata": {},
     "output_type": "execute_result"
    }
   ],
   "source": [
    "decoder_data"
   ]
  },
  {
   "cell_type": "code",
   "execution_count": 219,
   "metadata": {},
   "outputs": [],
   "source": [
    "# add time index consistent with \"data\"\n",
    "decoder_data[\"time_idx\"] = np.arange(encoder_data['time_idx'].max() + 1, encoder_data['time_idx'].max() + len(decoder_data) + 1)"
   ]
  },
  {
   "cell_type": "code",
   "execution_count": 220,
   "metadata": {},
   "outputs": [
    {
     "data": {
      "text/html": [
       "<div>\n",
       "<style scoped>\n",
       "    .dataframe tbody tr th:only-of-type {\n",
       "        vertical-align: middle;\n",
       "    }\n",
       "\n",
       "    .dataframe tbody tr th {\n",
       "        vertical-align: top;\n",
       "    }\n",
       "\n",
       "    .dataframe thead th {\n",
       "        text-align: right;\n",
       "    }\n",
       "</style>\n",
       "<table border=\"1\" class=\"dataframe\">\n",
       "  <thead>\n",
       "    <tr style=\"text-align: right;\">\n",
       "      <th></th>\n",
       "      <th>TPR</th>\n",
       "      <th>CFR</th>\n",
       "      <th>time_idx</th>\n",
       "      <th>series</th>\n",
       "      <th>date</th>\n",
       "    </tr>\n",
       "  </thead>\n",
       "  <tbody>\n",
       "    <tr>\n",
       "      <th>0</th>\n",
       "      <td>0.012104</td>\n",
       "      <td>0.015617</td>\n",
       "      <td>503</td>\n",
       "      <td>0</td>\n",
       "      <td>2021-07-25</td>\n",
       "    </tr>\n",
       "    <tr>\n",
       "      <th>1</th>\n",
       "      <td>0.012104</td>\n",
       "      <td>0.015617</td>\n",
       "      <td>504</td>\n",
       "      <td>0</td>\n",
       "      <td>2021-07-26</td>\n",
       "    </tr>\n",
       "    <tr>\n",
       "      <th>2</th>\n",
       "      <td>0.012104</td>\n",
       "      <td>0.015617</td>\n",
       "      <td>505</td>\n",
       "      <td>0</td>\n",
       "      <td>2021-07-27</td>\n",
       "    </tr>\n",
       "    <tr>\n",
       "      <th>3</th>\n",
       "      <td>0.012104</td>\n",
       "      <td>0.015617</td>\n",
       "      <td>506</td>\n",
       "      <td>0</td>\n",
       "      <td>2021-07-28</td>\n",
       "    </tr>\n",
       "    <tr>\n",
       "      <th>4</th>\n",
       "      <td>0.012104</td>\n",
       "      <td>0.015617</td>\n",
       "      <td>507</td>\n",
       "      <td>0</td>\n",
       "      <td>2021-07-29</td>\n",
       "    </tr>\n",
       "    <tr>\n",
       "      <th>5</th>\n",
       "      <td>0.012104</td>\n",
       "      <td>0.015617</td>\n",
       "      <td>508</td>\n",
       "      <td>0</td>\n",
       "      <td>2021-07-30</td>\n",
       "    </tr>\n",
       "    <tr>\n",
       "      <th>6</th>\n",
       "      <td>0.012104</td>\n",
       "      <td>0.015617</td>\n",
       "      <td>509</td>\n",
       "      <td>0</td>\n",
       "      <td>2021-07-31</td>\n",
       "    </tr>\n",
       "    <tr>\n",
       "      <th>7</th>\n",
       "      <td>0.012104</td>\n",
       "      <td>0.015617</td>\n",
       "      <td>510</td>\n",
       "      <td>0</td>\n",
       "      <td>2021-08-01</td>\n",
       "    </tr>\n",
       "    <tr>\n",
       "      <th>8</th>\n",
       "      <td>0.012104</td>\n",
       "      <td>0.015617</td>\n",
       "      <td>511</td>\n",
       "      <td>0</td>\n",
       "      <td>2021-08-02</td>\n",
       "    </tr>\n",
       "    <tr>\n",
       "      <th>9</th>\n",
       "      <td>0.012104</td>\n",
       "      <td>0.015617</td>\n",
       "      <td>512</td>\n",
       "      <td>0</td>\n",
       "      <td>2021-08-03</td>\n",
       "    </tr>\n",
       "    <tr>\n",
       "      <th>10</th>\n",
       "      <td>0.012104</td>\n",
       "      <td>0.015617</td>\n",
       "      <td>513</td>\n",
       "      <td>0</td>\n",
       "      <td>2021-08-04</td>\n",
       "    </tr>\n",
       "    <tr>\n",
       "      <th>11</th>\n",
       "      <td>0.012104</td>\n",
       "      <td>0.015617</td>\n",
       "      <td>514</td>\n",
       "      <td>0</td>\n",
       "      <td>2021-08-05</td>\n",
       "    </tr>\n",
       "    <tr>\n",
       "      <th>12</th>\n",
       "      <td>0.012104</td>\n",
       "      <td>0.015617</td>\n",
       "      <td>515</td>\n",
       "      <td>0</td>\n",
       "      <td>2021-08-06</td>\n",
       "    </tr>\n",
       "    <tr>\n",
       "      <th>13</th>\n",
       "      <td>0.012104</td>\n",
       "      <td>0.015617</td>\n",
       "      <td>516</td>\n",
       "      <td>0</td>\n",
       "      <td>2021-08-07</td>\n",
       "    </tr>\n",
       "  </tbody>\n",
       "</table>\n",
       "</div>"
      ],
      "text/plain": [
       "         TPR       CFR  time_idx  series       date\n",
       "0   0.012104  0.015617       503       0 2021-07-25\n",
       "1   0.012104  0.015617       504       0 2021-07-26\n",
       "2   0.012104  0.015617       505       0 2021-07-27\n",
       "3   0.012104  0.015617       506       0 2021-07-28\n",
       "4   0.012104  0.015617       507       0 2021-07-29\n",
       "5   0.012104  0.015617       508       0 2021-07-30\n",
       "6   0.012104  0.015617       509       0 2021-07-31\n",
       "7   0.012104  0.015617       510       0 2021-08-01\n",
       "8   0.012104  0.015617       511       0 2021-08-02\n",
       "9   0.012104  0.015617       512       0 2021-08-03\n",
       "10  0.012104  0.015617       513       0 2021-08-04\n",
       "11  0.012104  0.015617       514       0 2021-08-05\n",
       "12  0.012104  0.015617       515       0 2021-08-06\n",
       "13  0.012104  0.015617       516       0 2021-08-07"
      ]
     },
     "execution_count": 220,
     "metadata": {},
     "output_type": "execute_result"
    }
   ],
   "source": [
    "decoder_data"
   ]
  },
  {
   "cell_type": "code",
   "execution_count": 221,
   "metadata": {},
   "outputs": [],
   "source": [
    "new_prediction_data = pd.concat([encoder_data, decoder_data], ignore_index=True)"
   ]
  },
  {
   "cell_type": "code",
   "execution_count": 222,
   "metadata": {},
   "outputs": [
    {
     "data": {
      "text/html": [
       "<div>\n",
       "<style scoped>\n",
       "    .dataframe tbody tr th:only-of-type {\n",
       "        vertical-align: middle;\n",
       "    }\n",
       "\n",
       "    .dataframe tbody tr th {\n",
       "        vertical-align: top;\n",
       "    }\n",
       "\n",
       "    .dataframe thead th {\n",
       "        text-align: right;\n",
       "    }\n",
       "</style>\n",
       "<table border=\"1\" class=\"dataframe\">\n",
       "  <thead>\n",
       "    <tr style=\"text-align: right;\">\n",
       "      <th></th>\n",
       "      <th>TPR</th>\n",
       "      <th>CFR</th>\n",
       "      <th>time_idx</th>\n",
       "      <th>series</th>\n",
       "      <th>date</th>\n",
       "    </tr>\n",
       "  </thead>\n",
       "  <tbody>\n",
       "    <tr>\n",
       "      <th>0</th>\n",
       "      <td>0.060254</td>\n",
       "      <td>0.016005</td>\n",
       "      <td>461</td>\n",
       "      <td>0</td>\n",
       "      <td>NaT</td>\n",
       "    </tr>\n",
       "    <tr>\n",
       "      <th>1</th>\n",
       "      <td>0.045645</td>\n",
       "      <td>0.017557</td>\n",
       "      <td>462</td>\n",
       "      <td>0</td>\n",
       "      <td>NaT</td>\n",
       "    </tr>\n",
       "    <tr>\n",
       "      <th>2</th>\n",
       "      <td>0.038017</td>\n",
       "      <td>0.022813</td>\n",
       "      <td>463</td>\n",
       "      <td>0</td>\n",
       "      <td>NaT</td>\n",
       "    </tr>\n",
       "    <tr>\n",
       "      <th>3</th>\n",
       "      <td>0.043536</td>\n",
       "      <td>0.020150</td>\n",
       "      <td>464</td>\n",
       "      <td>0</td>\n",
       "      <td>NaT</td>\n",
       "    </tr>\n",
       "    <tr>\n",
       "      <th>4</th>\n",
       "      <td>0.037761</td>\n",
       "      <td>0.023065</td>\n",
       "      <td>465</td>\n",
       "      <td>0</td>\n",
       "      <td>NaT</td>\n",
       "    </tr>\n",
       "    <tr>\n",
       "      <th>5</th>\n",
       "      <td>0.040583</td>\n",
       "      <td>0.029051</td>\n",
       "      <td>466</td>\n",
       "      <td>0</td>\n",
       "      <td>NaT</td>\n",
       "    </tr>\n",
       "    <tr>\n",
       "      <th>6</th>\n",
       "      <td>0.033854</td>\n",
       "      <td>0.027687</td>\n",
       "      <td>467</td>\n",
       "      <td>0</td>\n",
       "      <td>NaT</td>\n",
       "    </tr>\n",
       "    <tr>\n",
       "      <th>7</th>\n",
       "      <td>0.025882</td>\n",
       "      <td>0.026566</td>\n",
       "      <td>468</td>\n",
       "      <td>0</td>\n",
       "      <td>NaT</td>\n",
       "    </tr>\n",
       "    <tr>\n",
       "      <th>8</th>\n",
       "      <td>0.032505</td>\n",
       "      <td>0.029176</td>\n",
       "      <td>469</td>\n",
       "      <td>0</td>\n",
       "      <td>NaT</td>\n",
       "    </tr>\n",
       "    <tr>\n",
       "      <th>9</th>\n",
       "      <td>0.028730</td>\n",
       "      <td>0.037476</td>\n",
       "      <td>470</td>\n",
       "      <td>0</td>\n",
       "      <td>NaT</td>\n",
       "    </tr>\n",
       "    <tr>\n",
       "      <th>10</th>\n",
       "      <td>0.025994</td>\n",
       "      <td>0.027728</td>\n",
       "      <td>471</td>\n",
       "      <td>0</td>\n",
       "      <td>NaT</td>\n",
       "    </tr>\n",
       "    <tr>\n",
       "      <th>11</th>\n",
       "      <td>0.024670</td>\n",
       "      <td>0.034682</td>\n",
       "      <td>472</td>\n",
       "      <td>0</td>\n",
       "      <td>NaT</td>\n",
       "    </tr>\n",
       "    <tr>\n",
       "      <th>12</th>\n",
       "      <td>0.020940</td>\n",
       "      <td>0.034441</td>\n",
       "      <td>473</td>\n",
       "      <td>0</td>\n",
       "      <td>NaT</td>\n",
       "    </tr>\n",
       "    <tr>\n",
       "      <th>13</th>\n",
       "      <td>0.025889</td>\n",
       "      <td>0.026919</td>\n",
       "      <td>474</td>\n",
       "      <td>0</td>\n",
       "      <td>NaT</td>\n",
       "    </tr>\n",
       "    <tr>\n",
       "      <th>14</th>\n",
       "      <td>0.021891</td>\n",
       "      <td>0.024695</td>\n",
       "      <td>475</td>\n",
       "      <td>0</td>\n",
       "      <td>NaT</td>\n",
       "    </tr>\n",
       "    <tr>\n",
       "      <th>15</th>\n",
       "      <td>0.019236</td>\n",
       "      <td>0.036102</td>\n",
       "      <td>476</td>\n",
       "      <td>0</td>\n",
       "      <td>NaT</td>\n",
       "    </tr>\n",
       "    <tr>\n",
       "      <th>16</th>\n",
       "      <td>0.025436</td>\n",
       "      <td>0.028864</td>\n",
       "      <td>477</td>\n",
       "      <td>0</td>\n",
       "      <td>NaT</td>\n",
       "    </tr>\n",
       "    <tr>\n",
       "      <th>17</th>\n",
       "      <td>0.019765</td>\n",
       "      <td>0.032821</td>\n",
       "      <td>478</td>\n",
       "      <td>0</td>\n",
       "      <td>NaT</td>\n",
       "    </tr>\n",
       "    <tr>\n",
       "      <th>18</th>\n",
       "      <td>0.020522</td>\n",
       "      <td>0.029347</td>\n",
       "      <td>479</td>\n",
       "      <td>0</td>\n",
       "      <td>NaT</td>\n",
       "    </tr>\n",
       "    <tr>\n",
       "      <th>19</th>\n",
       "      <td>0.019239</td>\n",
       "      <td>0.029491</td>\n",
       "      <td>480</td>\n",
       "      <td>0</td>\n",
       "      <td>NaT</td>\n",
       "    </tr>\n",
       "    <tr>\n",
       "      <th>20</th>\n",
       "      <td>0.013462</td>\n",
       "      <td>0.041306</td>\n",
       "      <td>481</td>\n",
       "      <td>0</td>\n",
       "      <td>NaT</td>\n",
       "    </tr>\n",
       "    <tr>\n",
       "      <th>21</th>\n",
       "      <td>0.010217</td>\n",
       "      <td>0.037724</td>\n",
       "      <td>482</td>\n",
       "      <td>0</td>\n",
       "      <td>NaT</td>\n",
       "    </tr>\n",
       "    <tr>\n",
       "      <th>22</th>\n",
       "      <td>0.019430</td>\n",
       "      <td>0.023525</td>\n",
       "      <td>483</td>\n",
       "      <td>0</td>\n",
       "      <td>NaT</td>\n",
       "    </tr>\n",
       "    <tr>\n",
       "      <th>23</th>\n",
       "      <td>0.026550</td>\n",
       "      <td>0.029639</td>\n",
       "      <td>484</td>\n",
       "      <td>0</td>\n",
       "      <td>NaT</td>\n",
       "    </tr>\n",
       "    <tr>\n",
       "      <th>24</th>\n",
       "      <td>0.016462</td>\n",
       "      <td>0.027342</td>\n",
       "      <td>485</td>\n",
       "      <td>0</td>\n",
       "      <td>NaT</td>\n",
       "    </tr>\n",
       "    <tr>\n",
       "      <th>25</th>\n",
       "      <td>0.016058</td>\n",
       "      <td>0.024506</td>\n",
       "      <td>486</td>\n",
       "      <td>0</td>\n",
       "      <td>NaT</td>\n",
       "    </tr>\n",
       "    <tr>\n",
       "      <th>26</th>\n",
       "      <td>0.014895</td>\n",
       "      <td>0.029694</td>\n",
       "      <td>487</td>\n",
       "      <td>0</td>\n",
       "      <td>NaT</td>\n",
       "    </tr>\n",
       "    <tr>\n",
       "      <th>27</th>\n",
       "      <td>0.014842</td>\n",
       "      <td>0.022202</td>\n",
       "      <td>488</td>\n",
       "      <td>0</td>\n",
       "      <td>NaT</td>\n",
       "    </tr>\n",
       "    <tr>\n",
       "      <th>28</th>\n",
       "      <td>0.012448</td>\n",
       "      <td>0.028311</td>\n",
       "      <td>489</td>\n",
       "      <td>0</td>\n",
       "      <td>NaT</td>\n",
       "    </tr>\n",
       "    <tr>\n",
       "      <th>29</th>\n",
       "      <td>0.012669</td>\n",
       "      <td>0.044012</td>\n",
       "      <td>490</td>\n",
       "      <td>0</td>\n",
       "      <td>NaT</td>\n",
       "    </tr>\n",
       "    <tr>\n",
       "      <th>30</th>\n",
       "      <td>0.015354</td>\n",
       "      <td>0.025091</td>\n",
       "      <td>491</td>\n",
       "      <td>0</td>\n",
       "      <td>NaT</td>\n",
       "    </tr>\n",
       "    <tr>\n",
       "      <th>31</th>\n",
       "      <td>0.015985</td>\n",
       "      <td>0.022613</td>\n",
       "      <td>492</td>\n",
       "      <td>0</td>\n",
       "      <td>NaT</td>\n",
       "    </tr>\n",
       "    <tr>\n",
       "      <th>32</th>\n",
       "      <td>0.014298</td>\n",
       "      <td>0.024279</td>\n",
       "      <td>493</td>\n",
       "      <td>0</td>\n",
       "      <td>NaT</td>\n",
       "    </tr>\n",
       "    <tr>\n",
       "      <th>33</th>\n",
       "      <td>0.011811</td>\n",
       "      <td>0.023256</td>\n",
       "      <td>494</td>\n",
       "      <td>0</td>\n",
       "      <td>NaT</td>\n",
       "    </tr>\n",
       "    <tr>\n",
       "      <th>34</th>\n",
       "      <td>0.013083</td>\n",
       "      <td>0.022472</td>\n",
       "      <td>495</td>\n",
       "      <td>0</td>\n",
       "      <td>NaT</td>\n",
       "    </tr>\n",
       "    <tr>\n",
       "      <th>35</th>\n",
       "      <td>0.010909</td>\n",
       "      <td>0.021077</td>\n",
       "      <td>496</td>\n",
       "      <td>0</td>\n",
       "      <td>NaT</td>\n",
       "    </tr>\n",
       "    <tr>\n",
       "      <th>36</th>\n",
       "      <td>0.009494</td>\n",
       "      <td>0.030984</td>\n",
       "      <td>497</td>\n",
       "      <td>0</td>\n",
       "      <td>NaT</td>\n",
       "    </tr>\n",
       "    <tr>\n",
       "      <th>37</th>\n",
       "      <td>0.012904</td>\n",
       "      <td>0.019809</td>\n",
       "      <td>498</td>\n",
       "      <td>0</td>\n",
       "      <td>NaT</td>\n",
       "    </tr>\n",
       "    <tr>\n",
       "      <th>38</th>\n",
       "      <td>0.010732</td>\n",
       "      <td>0.021965</td>\n",
       "      <td>499</td>\n",
       "      <td>0</td>\n",
       "      <td>NaT</td>\n",
       "    </tr>\n",
       "    <tr>\n",
       "      <th>39</th>\n",
       "      <td>0.011778</td>\n",
       "      <td>0.018754</td>\n",
       "      <td>500</td>\n",
       "      <td>0</td>\n",
       "      <td>NaT</td>\n",
       "    </tr>\n",
       "    <tr>\n",
       "      <th>40</th>\n",
       "      <td>0.013594</td>\n",
       "      <td>0.017595</td>\n",
       "      <td>501</td>\n",
       "      <td>0</td>\n",
       "      <td>NaT</td>\n",
       "    </tr>\n",
       "    <tr>\n",
       "      <th>41</th>\n",
       "      <td>0.012104</td>\n",
       "      <td>0.015617</td>\n",
       "      <td>502</td>\n",
       "      <td>0</td>\n",
       "      <td>NaT</td>\n",
       "    </tr>\n",
       "    <tr>\n",
       "      <th>42</th>\n",
       "      <td>0.012104</td>\n",
       "      <td>0.015617</td>\n",
       "      <td>503</td>\n",
       "      <td>0</td>\n",
       "      <td>2021-07-25</td>\n",
       "    </tr>\n",
       "    <tr>\n",
       "      <th>43</th>\n",
       "      <td>0.012104</td>\n",
       "      <td>0.015617</td>\n",
       "      <td>504</td>\n",
       "      <td>0</td>\n",
       "      <td>2021-07-26</td>\n",
       "    </tr>\n",
       "    <tr>\n",
       "      <th>44</th>\n",
       "      <td>0.012104</td>\n",
       "      <td>0.015617</td>\n",
       "      <td>505</td>\n",
       "      <td>0</td>\n",
       "      <td>2021-07-27</td>\n",
       "    </tr>\n",
       "    <tr>\n",
       "      <th>45</th>\n",
       "      <td>0.012104</td>\n",
       "      <td>0.015617</td>\n",
       "      <td>506</td>\n",
       "      <td>0</td>\n",
       "      <td>2021-07-28</td>\n",
       "    </tr>\n",
       "    <tr>\n",
       "      <th>46</th>\n",
       "      <td>0.012104</td>\n",
       "      <td>0.015617</td>\n",
       "      <td>507</td>\n",
       "      <td>0</td>\n",
       "      <td>2021-07-29</td>\n",
       "    </tr>\n",
       "    <tr>\n",
       "      <th>47</th>\n",
       "      <td>0.012104</td>\n",
       "      <td>0.015617</td>\n",
       "      <td>508</td>\n",
       "      <td>0</td>\n",
       "      <td>2021-07-30</td>\n",
       "    </tr>\n",
       "    <tr>\n",
       "      <th>48</th>\n",
       "      <td>0.012104</td>\n",
       "      <td>0.015617</td>\n",
       "      <td>509</td>\n",
       "      <td>0</td>\n",
       "      <td>2021-07-31</td>\n",
       "    </tr>\n",
       "    <tr>\n",
       "      <th>49</th>\n",
       "      <td>0.012104</td>\n",
       "      <td>0.015617</td>\n",
       "      <td>510</td>\n",
       "      <td>0</td>\n",
       "      <td>2021-08-01</td>\n",
       "    </tr>\n",
       "    <tr>\n",
       "      <th>50</th>\n",
       "      <td>0.012104</td>\n",
       "      <td>0.015617</td>\n",
       "      <td>511</td>\n",
       "      <td>0</td>\n",
       "      <td>2021-08-02</td>\n",
       "    </tr>\n",
       "    <tr>\n",
       "      <th>51</th>\n",
       "      <td>0.012104</td>\n",
       "      <td>0.015617</td>\n",
       "      <td>512</td>\n",
       "      <td>0</td>\n",
       "      <td>2021-08-03</td>\n",
       "    </tr>\n",
       "    <tr>\n",
       "      <th>52</th>\n",
       "      <td>0.012104</td>\n",
       "      <td>0.015617</td>\n",
       "      <td>513</td>\n",
       "      <td>0</td>\n",
       "      <td>2021-08-04</td>\n",
       "    </tr>\n",
       "    <tr>\n",
       "      <th>53</th>\n",
       "      <td>0.012104</td>\n",
       "      <td>0.015617</td>\n",
       "      <td>514</td>\n",
       "      <td>0</td>\n",
       "      <td>2021-08-05</td>\n",
       "    </tr>\n",
       "    <tr>\n",
       "      <th>54</th>\n",
       "      <td>0.012104</td>\n",
       "      <td>0.015617</td>\n",
       "      <td>515</td>\n",
       "      <td>0</td>\n",
       "      <td>2021-08-06</td>\n",
       "    </tr>\n",
       "    <tr>\n",
       "      <th>55</th>\n",
       "      <td>0.012104</td>\n",
       "      <td>0.015617</td>\n",
       "      <td>516</td>\n",
       "      <td>0</td>\n",
       "      <td>2021-08-07</td>\n",
       "    </tr>\n",
       "  </tbody>\n",
       "</table>\n",
       "</div>"
      ],
      "text/plain": [
       "         TPR       CFR  time_idx  series       date\n",
       "0   0.060254  0.016005       461       0        NaT\n",
       "1   0.045645  0.017557       462       0        NaT\n",
       "2   0.038017  0.022813       463       0        NaT\n",
       "3   0.043536  0.020150       464       0        NaT\n",
       "4   0.037761  0.023065       465       0        NaT\n",
       "5   0.040583  0.029051       466       0        NaT\n",
       "6   0.033854  0.027687       467       0        NaT\n",
       "7   0.025882  0.026566       468       0        NaT\n",
       "8   0.032505  0.029176       469       0        NaT\n",
       "9   0.028730  0.037476       470       0        NaT\n",
       "10  0.025994  0.027728       471       0        NaT\n",
       "11  0.024670  0.034682       472       0        NaT\n",
       "12  0.020940  0.034441       473       0        NaT\n",
       "13  0.025889  0.026919       474       0        NaT\n",
       "14  0.021891  0.024695       475       0        NaT\n",
       "15  0.019236  0.036102       476       0        NaT\n",
       "16  0.025436  0.028864       477       0        NaT\n",
       "17  0.019765  0.032821       478       0        NaT\n",
       "18  0.020522  0.029347       479       0        NaT\n",
       "19  0.019239  0.029491       480       0        NaT\n",
       "20  0.013462  0.041306       481       0        NaT\n",
       "21  0.010217  0.037724       482       0        NaT\n",
       "22  0.019430  0.023525       483       0        NaT\n",
       "23  0.026550  0.029639       484       0        NaT\n",
       "24  0.016462  0.027342       485       0        NaT\n",
       "25  0.016058  0.024506       486       0        NaT\n",
       "26  0.014895  0.029694       487       0        NaT\n",
       "27  0.014842  0.022202       488       0        NaT\n",
       "28  0.012448  0.028311       489       0        NaT\n",
       "29  0.012669  0.044012       490       0        NaT\n",
       "30  0.015354  0.025091       491       0        NaT\n",
       "31  0.015985  0.022613       492       0        NaT\n",
       "32  0.014298  0.024279       493       0        NaT\n",
       "33  0.011811  0.023256       494       0        NaT\n",
       "34  0.013083  0.022472       495       0        NaT\n",
       "35  0.010909  0.021077       496       0        NaT\n",
       "36  0.009494  0.030984       497       0        NaT\n",
       "37  0.012904  0.019809       498       0        NaT\n",
       "38  0.010732  0.021965       499       0        NaT\n",
       "39  0.011778  0.018754       500       0        NaT\n",
       "40  0.013594  0.017595       501       0        NaT\n",
       "41  0.012104  0.015617       502       0        NaT\n",
       "42  0.012104  0.015617       503       0 2021-07-25\n",
       "43  0.012104  0.015617       504       0 2021-07-26\n",
       "44  0.012104  0.015617       505       0 2021-07-27\n",
       "45  0.012104  0.015617       506       0 2021-07-28\n",
       "46  0.012104  0.015617       507       0 2021-07-29\n",
       "47  0.012104  0.015617       508       0 2021-07-30\n",
       "48  0.012104  0.015617       509       0 2021-07-31\n",
       "49  0.012104  0.015617       510       0 2021-08-01\n",
       "50  0.012104  0.015617       511       0 2021-08-02\n",
       "51  0.012104  0.015617       512       0 2021-08-03\n",
       "52  0.012104  0.015617       513       0 2021-08-04\n",
       "53  0.012104  0.015617       514       0 2021-08-05\n",
       "54  0.012104  0.015617       515       0 2021-08-06\n",
       "55  0.012104  0.015617       516       0 2021-08-07"
      ]
     },
     "execution_count": 222,
     "metadata": {},
     "output_type": "execute_result"
    }
   ],
   "source": [
    "new_prediction_data"
   ]
  },
  {
   "cell_type": "code",
   "execution_count": 223,
   "metadata": {},
   "outputs": [
    {
     "data": {
      "application/vnd.jupyter.widget-view+json": {
       "model_id": "26e1b0dc5bd3441786d995c889a45433",
       "version_major": 2,
       "version_minor": 0
      },
      "text/plain": [
       "Canvas(toolbar=Toolbar(toolitems=[('Home', 'Reset original view', 'home', 'home'), ('Back', 'Back to previous …"
      ]
     },
     "metadata": {},
     "output_type": "display_data"
    },
    {
     "data": {
      "image/png": "[encoded data removed]",
      "text/plain": [
       "<Figure size 432x288 with 1 Axes>"
      ]
     },
     "execution_count": 223,
     "metadata": {},
     "output_type": "execute_result"
    }
   ],
   "source": [
    "new_raw_predictions, new_x = best_model.predict(new_prediction_data, mode=\"raw\", return_x=True)\n",
    "best_model.plot_prediction(new_x, new_raw_predictions, idx=0, show_future_observed=False)"
   ]
  },
  {
   "cell_type": "code",
   "execution_count": 224,
   "metadata": {},
   "outputs": [],
   "source": [
    "new_raw_predictions['prediction'] += 0.002"
   ]
  },
  {
   "cell_type": "code",
   "execution_count": 225,
   "metadata": {},
   "outputs": [
    {
     "data": {
      "application/vnd.jupyter.widget-view+json": {
       "model_id": "d0d7913e29c94df88647451edb885a1f",
       "version_major": 2,
       "version_minor": 0
      },
      "text/plain": [
       "Canvas(toolbar=Toolbar(toolitems=[('Home', 'Reset original view', 'home', 'home'), ('Back', 'Back to previous …"
      ]
     },
     "metadata": {},
     "output_type": "display_data"
    },
    {
     "data": {
      "image/png": "[encoded data removed]",
      "text/plain": [
       "<Figure size 432x288 with 1 Axes>"
      ]
     },
     "execution_count": 225,
     "metadata": {},
     "output_type": "execute_result"
    }
   ],
   "source": [
    "%matplotlib widget\n",
    "best_model.plot_prediction(new_x, new_raw_predictions, idx=0, show_future_observed=False)"
   ]
  },
  {
   "cell_type": "code",
   "execution_count": 226,
   "metadata": {},
   "outputs": [
    {
     "data": {
      "text/plain": [
       "tensor([[0.0133, 0.0132, 0.0131, 0.0130, 0.0128, 0.0126, 0.0125, 0.0125, 0.0126,\n",
       "         0.0127, 0.0126, 0.0125, 0.0128, 0.0138]])"
      ]
     },
     "execution_count": 226,
     "metadata": {},
     "output_type": "execute_result"
    }
   ],
   "source": [
    "new_raw_predictions['prediction']"
   ]
  },
  {
   "cell_type": "code",
   "execution_count": 229,
   "metadata": {},
   "outputs": [],
   "source": [
    "decoder_data['prediction'] = new_raw_predictions['prediction'].squeeze().numpy()"
   ]
  },
  {
   "cell_type": "code",
   "execution_count": 235,
   "metadata": {},
   "outputs": [],
   "source": [
    "out = decoder_data[['date', 'prediction']].set_index('date')\n",
    "out['predicted TPR %'] = 100 * out['prediction']"
   ]
  },
  {
   "cell_type": "code",
   "execution_count": 238,
   "metadata": {},
   "outputs": [],
   "source": [
    "out.drop('prediction', axis=1, inplace=True)"
   ]
  },
  {
   "cell_type": "code",
   "execution_count": 242,
   "metadata": {},
   "outputs": [
    {
     "data": {
      "application/vnd.jupyter.widget-view+json": {
       "model_id": "0afa39f274374d378a63692d274d7d03",
       "version_major": 2,
       "version_minor": 0
      },
      "text/plain": [
       "Canvas(toolbar=Toolbar(toolitems=[('Home', 'Reset original view', 'home', 'home'), ('Back', 'Back to previous …"
      ]
     },
     "metadata": {},
     "output_type": "display_data"
    },
    {
     "data": {
      "text/plain": [
       "<AxesSubplot:xlabel='date'>"
      ]
     },
     "execution_count": 242,
     "metadata": {},
     "output_type": "execute_result"
    }
   ],
   "source": [
    "%matplotlib widget\n",
    "out.plot(legend=True, style=\"ro-\")"
   ]
  },
  {
   "cell_type": "code",
   "execution_count": 245,
   "metadata": {},
   "outputs": [
    {
     "name": "stdout",
     "output_type": "stream",
     "text": [
      "            predicted TPR %\n",
      "date                       \n",
      "2021-07-25         1.334185\n",
      "2021-07-26         1.324228\n",
      "2021-07-27         1.311928\n",
      "2021-07-28         1.295483\n",
      "2021-07-29         1.275616\n",
      "2021-07-30         1.258081\n",
      "2021-07-31         1.250323\n",
      "2021-08-01         1.254435\n",
      "2021-08-02         1.263263\n",
      "2021-08-03         1.265305\n",
      "2021-08-04         1.256874\n",
      "2021-08-05         1.252432\n",
      "2021-08-06         1.282641\n",
      "2021-08-07         1.377177\n"
     ]
    }
   ],
   "source": [
    "print(out)"
   ]
  },
  {
   "cell_type": "code",
   "execution_count": null,
   "metadata": {},
   "outputs": [],
   "source": []
  }
 ],
 "metadata": {
  "kernelspec": {
   "display_name": "Python 3 (ipykernel)",
   "language": "python",
   "name": "python3"
  },
  "language_info": {
   "codemirror_mode": {
    "name": "ipython",
    "version": 3
   },
   "file_extension": ".py",
   "mimetype": "text/x-python",
   "name": "python",
   "nbconvert_exporter": "python",
   "pygments_lexer": "ipython3",
   "version": "3.8.8"
  }
 },
 "nbformat": 4,
 "nbformat_minor": 4
}
