{
 "cells": [
  {
   "cell_type": "code",
   "execution_count": 2,
   "metadata": {},
   "outputs": [],
   "source": [
    "import sys\n",
    "\n",
    "sys.path.append(\"src\")"
   ]
  },
  {
   "cell_type": "code",
   "execution_count": 3,
   "metadata": {},
   "outputs": [],
   "source": [
    "from consumer import DataLoader"
   ]
  },
  {
   "cell_type": "code",
   "execution_count": 4,
   "metadata": {},
   "outputs": [],
   "source": [
    "dl = DataLoader()"
   ]
  },
  {
   "cell_type": "code",
   "execution_count": 5,
   "metadata": {},
   "outputs": [
    {
     "data": {
      "text/plain": [
       "\u001b[0;31mType:\u001b[0m        DataLoader\n",
       "\u001b[0;31mString form:\u001b[0m <consumer.api_consumer.DataLoader object at 0x7fdfa6a15a00>\n",
       "\u001b[0;31mFile:\u001b[0m        ~/src/pysrc/covid_modeling/src/consumer/api_consumer.py\n",
       "\u001b[0;31mDocstring:\u001b[0m  \n",
       "Implements methods to fetch data from https://api.covid19india.org/ for \n",
       "states/country, timeseries/daily as pandas DataFrame or a dictionary of \n",
       "DataFrames.\n",
       "\n",
       "Once instantiated, it makes *one call* to the API server, and caches entire \n",
       "timeseries data or entire daily data in the object itself. Once you've constructed the\n",
       "desired DataFrames, consider 'del <object>' to save on memory.\n",
       "\n",
       "Or you can get the dictionary of all DataFrames using the property \n",
       "\n",
       "LIMITATIONS:\n",
       "    1. 2021-07-16: Only gets the statewise data\n",
       "TODO: Get and process distric-wise data.\n",
       "\n",
       "Examples:\n",
       ">>> # Instantiate\n",
       ">>> dl = DataLoader()\n"
      ]
     },
     "metadata": {},
     "output_type": "display_data"
    }
   ],
   "source": [
    "dl?"
   ]
  },
  {
   "cell_type": "code",
   "execution_count": 6,
   "metadata": {},
   "outputs": [],
   "source": [
    "ind_data = dl.get_data(state_codes='TT')"
   ]
  },
  {
   "cell_type": "code",
   "execution_count": 7,
   "metadata": {},
   "outputs": [
    {
     "data": {
      "text/plain": [
       "Index(['date', 'population', 'delta.confirmed', 'delta7.confirmed',\n",
       "       'total.confirmed', 'delta.recovered', 'delta7.recovered',\n",
       "       'total.recovered', 'delta.deceased', 'delta.tested', 'delta7.deceased',\n",
       "       'delta7.tested', 'total.deceased', 'total.tested', 'delta.other',\n",
       "       'delta7.other', 'total.other', 'delta.vaccinated1',\n",
       "       'delta7.vaccinated1', 'total.vaccinated1', 'delta.vaccinated2',\n",
       "       'delta7.vaccinated2', 'total.vaccinated2'],\n",
       "      dtype='object')"
      ]
     },
     "execution_count": 7,
     "metadata": {},
     "output_type": "execute_result"
    }
   ],
   "source": [
    "ind_data.columns"
   ]
  },
  {
   "cell_type": "code",
   "execution_count": 11,
   "metadata": {},
   "outputs": [
    {
     "data": {
      "text/plain": [
       "\u001b[0;31mSignature:\u001b[0m      \u001b[0mind_data\u001b[0m\u001b[0;34m.\u001b[0m\u001b[0mplot\u001b[0m\u001b[0;34m(\u001b[0m\u001b[0;34m*\u001b[0m\u001b[0margs\u001b[0m\u001b[0;34m,\u001b[0m \u001b[0;34m**\u001b[0m\u001b[0mkwargs\u001b[0m\u001b[0;34m)\u001b[0m\u001b[0;34m\u001b[0m\u001b[0;34m\u001b[0m\u001b[0m\n",
       "\u001b[0;31mType:\u001b[0m           PlotAccessor\n",
       "\u001b[0;31mString form:\u001b[0m    <pandas.plotting._core.PlotAccessor object at 0x7fdf9d572ee0>\n",
       "\u001b[0;31mFile:\u001b[0m           ~/.condaroot/envs/ml/lib/python3.8/site-packages/pandas/plotting/_core.py\n",
       "\u001b[0;31mDocstring:\u001b[0m     \n",
       "Make plots of Series or DataFrame.\n",
       "\n",
       "Uses the backend specified by the\n",
       "option ``plotting.backend``. By default, matplotlib is used.\n",
       "\n",
       "Parameters\n",
       "----------\n",
       "data : Series or DataFrame\n",
       "    The object for which the method is called.\n",
       "x : label or position, default None\n",
       "    Only used if data is a DataFrame.\n",
       "y : label, position or list of label, positions, default None\n",
       "    Allows plotting of one column versus another. Only used if data is a\n",
       "    DataFrame.\n",
       "kind : str\n",
       "    The kind of plot to produce:\n",
       "\n",
       "    - 'line' : line plot (default)\n",
       "    - 'bar' : vertical bar plot\n",
       "    - 'barh' : horizontal bar plot\n",
       "    - 'hist' : histogram\n",
       "    - 'box' : boxplot\n",
       "    - 'kde' : Kernel Density Estimation plot\n",
       "    - 'density' : same as 'kde'\n",
       "    - 'area' : area plot\n",
       "    - 'pie' : pie plot\n",
       "    - 'scatter' : scatter plot (DataFrame only)\n",
       "    - 'hexbin' : hexbin plot (DataFrame only)\n",
       "ax : matplotlib axes object, default None\n",
       "    An axes of the current figure.\n",
       "subplots : bool, default False\n",
       "    Make separate subplots for each column.\n",
       "sharex : bool, default True if ax is None else False\n",
       "    In case ``subplots=True``, share x axis and set some x axis labels\n",
       "    to invisible; defaults to True if ax is None otherwise False if\n",
       "    an ax is passed in; Be aware, that passing in both an ax and\n",
       "    ``sharex=True`` will alter all x axis labels for all axis in a figure.\n",
       "sharey : bool, default False\n",
       "    In case ``subplots=True``, share y axis and set some y axis labels to invisible.\n",
       "layout : tuple, optional\n",
       "    (rows, columns) for the layout of subplots.\n",
       "figsize : a tuple (width, height) in inches\n",
       "    Size of a figure object.\n",
       "use_index : bool, default True\n",
       "    Use index as ticks for x axis.\n",
       "title : str or list\n",
       "    Title to use for the plot. If a string is passed, print the string\n",
       "    at the top of the figure. If a list is passed and `subplots` is\n",
       "    True, print each item in the list above the corresponding subplot.\n",
       "grid : bool, default None (matlab style default)\n",
       "    Axis grid lines.\n",
       "legend : bool or {'reverse'}\n",
       "    Place legend on axis subplots.\n",
       "style : list or dict\n",
       "    The matplotlib line style per column.\n",
       "logx : bool or 'sym', default False\n",
       "    Use log scaling or symlog scaling on x axis.\n",
       "    .. versionchanged:: 0.25.0\n",
       "\n",
       "logy : bool or 'sym' default False\n",
       "    Use log scaling or symlog scaling on y axis.\n",
       "    .. versionchanged:: 0.25.0\n",
       "\n",
       "loglog : bool or 'sym', default False\n",
       "    Use log scaling or symlog scaling on both x and y axes.\n",
       "    .. versionchanged:: 0.25.0\n",
       "\n",
       "xticks : sequence\n",
       "    Values to use for the xticks.\n",
       "yticks : sequence\n",
       "    Values to use for the yticks.\n",
       "xlim : 2-tuple/list\n",
       "    Set the x limits of the current axes.\n",
       "ylim : 2-tuple/list\n",
       "    Set the y limits of the current axes.\n",
       "xlabel : label, optional\n",
       "    Name to use for the xlabel on x-axis. Default uses index name as xlabel, or the\n",
       "    x-column name for planar plots.\n",
       "\n",
       "    .. versionadded:: 1.1.0\n",
       "\n",
       "    .. versionchanged:: 1.2.0\n",
       "\n",
       "       Now applicable to planar plots (`scatter`, `hexbin`).\n",
       "\n",
       "ylabel : label, optional\n",
       "    Name to use for the ylabel on y-axis. Default will show no ylabel, or the\n",
       "    y-column name for planar plots.\n",
       "\n",
       "    .. versionadded:: 1.1.0\n",
       "\n",
       "    .. versionchanged:: 1.2.0\n",
       "\n",
       "       Now applicable to planar plots (`scatter`, `hexbin`).\n",
       "\n",
       "rot : int, default None\n",
       "    Rotation for ticks (xticks for vertical, yticks for horizontal\n",
       "    plots).\n",
       "fontsize : int, default None\n",
       "    Font size for xticks and yticks.\n",
       "colormap : str or matplotlib colormap object, default None\n",
       "    Colormap to select colors from. If string, load colormap with that\n",
       "    name from matplotlib.\n",
       "colorbar : bool, optional\n",
       "    If True, plot colorbar (only relevant for 'scatter' and 'hexbin'\n",
       "    plots).\n",
       "position : float\n",
       "    Specify relative alignments for bar plot layout.\n",
       "    From 0 (left/bottom-end) to 1 (right/top-end). Default is 0.5\n",
       "    (center).\n",
       "table : bool, Series or DataFrame, default False\n",
       "    If True, draw a table using the data in the DataFrame and the data\n",
       "    will be transposed to meet matplotlib's default layout.\n",
       "    If a Series or DataFrame is passed, use passed data to draw a\n",
       "    table.\n",
       "yerr : DataFrame, Series, array-like, dict and str\n",
       "    See :ref:`Plotting with Error Bars <visualization.errorbars>` for\n",
       "    detail.\n",
       "xerr : DataFrame, Series, array-like, dict and str\n",
       "    Equivalent to yerr.\n",
       "stacked : bool, default False in line and bar plots, and True in area plot\n",
       "    If True, create stacked plot.\n",
       "sort_columns : bool, default False\n",
       "    Sort column names to determine plot ordering.\n",
       "secondary_y : bool or sequence, default False\n",
       "    Whether to plot on the secondary y-axis if a list/tuple, which\n",
       "    columns to plot on secondary y-axis.\n",
       "mark_right : bool, default True\n",
       "    When using a secondary_y axis, automatically mark the column\n",
       "    labels with \"(right)\" in the legend.\n",
       "include_bool : bool, default is False\n",
       "    If True, boolean values can be plotted.\n",
       "backend : str, default None\n",
       "    Backend to use instead of the backend specified in the option\n",
       "    ``plotting.backend``. For instance, 'matplotlib'. Alternatively, to\n",
       "    specify the ``plotting.backend`` for the whole session, set\n",
       "    ``pd.options.plotting.backend``.\n",
       "\n",
       "    .. versionadded:: 1.0.0\n",
       "\n",
       "**kwargs\n",
       "    Options to pass to matplotlib plotting method.\n",
       "\n",
       "Returns\n",
       "-------\n",
       ":class:`matplotlib.axes.Axes` or numpy.ndarray of them\n",
       "    If the backend is not the default matplotlib one, the return value\n",
       "    will be the object returned by the backend.\n",
       "\n",
       "Notes\n",
       "-----\n",
       "- See matplotlib documentation online for more on this subject\n",
       "- If `kind` = 'bar' or 'barh', you can specify relative alignments\n",
       "  for bar plot layout by `position` keyword.\n",
       "  From 0 (left/bottom-end) to 1 (right/top-end). Default is 0.5\n",
       "  (center)\n",
       "\u001b[0;31mCall docstring:\u001b[0m\n",
       "Make plots of Series or DataFrame.\n",
       "\n",
       "Uses the backend specified by the\n",
       "option ``plotting.backend``. By default, matplotlib is used.\n",
       "\n",
       "Parameters\n",
       "----------\n",
       "data : Series or DataFrame\n",
       "    The object for which the method is called.\n",
       "x : label or position, default None\n",
       "    Only used if data is a DataFrame.\n",
       "y : label, position or list of label, positions, default None\n",
       "    Allows plotting of one column versus another. Only used if data is a\n",
       "    DataFrame.\n",
       "kind : str\n",
       "    The kind of plot to produce:\n",
       "\n",
       "    - 'line' : line plot (default)\n",
       "    - 'bar' : vertical bar plot\n",
       "    - 'barh' : horizontal bar plot\n",
       "    - 'hist' : histogram\n",
       "    - 'box' : boxplot\n",
       "    - 'kde' : Kernel Density Estimation plot\n",
       "    - 'density' : same as 'kde'\n",
       "    - 'area' : area plot\n",
       "    - 'pie' : pie plot\n",
       "    - 'scatter' : scatter plot (DataFrame only)\n",
       "    - 'hexbin' : hexbin plot (DataFrame only)\n",
       "ax : matplotlib axes object, default None\n",
       "    An axes of the current figure.\n",
       "subplots : bool, default False\n",
       "    Make separate subplots for each column.\n",
       "sharex : bool, default True if ax is None else False\n",
       "    In case ``subplots=True``, share x axis and set some x axis labels\n",
       "    to invisible; defaults to True if ax is None otherwise False if\n",
       "    an ax is passed in; Be aware, that passing in both an ax and\n",
       "    ``sharex=True`` will alter all x axis labels for all axis in a figure.\n",
       "sharey : bool, default False\n",
       "    In case ``subplots=True``, share y axis and set some y axis labels to invisible.\n",
       "layout : tuple, optional\n",
       "    (rows, columns) for the layout of subplots.\n",
       "figsize : a tuple (width, height) in inches\n",
       "    Size of a figure object.\n",
       "use_index : bool, default True\n",
       "    Use index as ticks for x axis.\n",
       "title : str or list\n",
       "    Title to use for the plot. If a string is passed, print the string\n",
       "    at the top of the figure. If a list is passed and `subplots` is\n",
       "    True, print each item in the list above the corresponding subplot.\n",
       "grid : bool, default None (matlab style default)\n",
       "    Axis grid lines.\n",
       "legend : bool or {'reverse'}\n",
       "    Place legend on axis subplots.\n",
       "style : list or dict\n",
       "    The matplotlib line style per column.\n",
       "logx : bool or 'sym', default False\n",
       "    Use log scaling or symlog scaling on x axis.\n",
       "    .. versionchanged:: 0.25.0\n",
       "\n",
       "logy : bool or 'sym' default False\n",
       "    Use log scaling or symlog scaling on y axis.\n",
       "    .. versionchanged:: 0.25.0\n",
       "\n",
       "loglog : bool or 'sym', default False\n",
       "    Use log scaling or symlog scaling on both x and y axes.\n",
       "    .. versionchanged:: 0.25.0\n",
       "\n",
       "xticks : sequence\n",
       "    Values to use for the xticks.\n",
       "yticks : sequence\n",
       "    Values to use for the yticks.\n",
       "xlim : 2-tuple/list\n",
       "    Set the x limits of the current axes.\n",
       "ylim : 2-tuple/list\n",
       "    Set the y limits of the current axes.\n",
       "xlabel : label, optional\n",
       "    Name to use for the xlabel on x-axis. Default uses index name as xlabel, or the\n",
       "    x-column name for planar plots.\n",
       "\n",
       "    .. versionadded:: 1.1.0\n",
       "\n",
       "    .. versionchanged:: 1.2.0\n",
       "\n",
       "       Now applicable to planar plots (`scatter`, `hexbin`).\n",
       "\n",
       "ylabel : label, optional\n",
       "    Name to use for the ylabel on y-axis. Default will show no ylabel, or the\n",
       "    y-column name for planar plots.\n",
       "\n",
       "    .. versionadded:: 1.1.0\n",
       "\n",
       "    .. versionchanged:: 1.2.0\n",
       "\n",
       "       Now applicable to planar plots (`scatter`, `hexbin`).\n",
       "\n",
       "rot : int, default None\n",
       "    Rotation for ticks (xticks for vertical, yticks for horizontal\n",
       "    plots).\n",
       "fontsize : int, default None\n",
       "    Font size for xticks and yticks.\n",
       "colormap : str or matplotlib colormap object, default None\n",
       "    Colormap to select colors from. If string, load colormap with that\n",
       "    name from matplotlib.\n",
       "colorbar : bool, optional\n",
       "    If True, plot colorbar (only relevant for 'scatter' and 'hexbin'\n",
       "    plots).\n",
       "position : float\n",
       "    Specify relative alignments for bar plot layout.\n",
       "    From 0 (left/bottom-end) to 1 (right/top-end). Default is 0.5\n",
       "    (center).\n",
       "table : bool, Series or DataFrame, default False\n",
       "    If True, draw a table using the data in the DataFrame and the data\n",
       "    will be transposed to meet matplotlib's default layout.\n",
       "    If a Series or DataFrame is passed, use passed data to draw a\n",
       "    table.\n",
       "yerr : DataFrame, Series, array-like, dict and str\n",
       "    See :ref:`Plotting with Error Bars <visualization.errorbars>` for\n",
       "    detail.\n",
       "xerr : DataFrame, Series, array-like, dict and str\n",
       "    Equivalent to yerr.\n",
       "stacked : bool, default False in line and bar plots, and True in area plot\n",
       "    If True, create stacked plot.\n",
       "sort_columns : bool, default False\n",
       "    Sort column names to determine plot ordering.\n",
       "secondary_y : bool or sequence, default False\n",
       "    Whether to plot on the secondary y-axis if a list/tuple, which\n",
       "    columns to plot on secondary y-axis.\n",
       "mark_right : bool, default True\n",
       "    When using a secondary_y axis, automatically mark the column\n",
       "    labels with \"(right)\" in the legend.\n",
       "include_bool : bool, default is False\n",
       "    If True, boolean values can be plotted.\n",
       "backend : str, default None\n",
       "    Backend to use instead of the backend specified in the option\n",
       "    ``plotting.backend``. For instance, 'matplotlib'. Alternatively, to\n",
       "    specify the ``plotting.backend`` for the whole session, set\n",
       "    ``pd.options.plotting.backend``.\n",
       "\n",
       "    .. versionadded:: 1.0.0\n",
       "\n",
       "**kwargs\n",
       "    Options to pass to matplotlib plotting method.\n",
       "\n",
       "Returns\n",
       "-------\n",
       ":class:`matplotlib.axes.Axes` or numpy.ndarray of them\n",
       "    If the backend is not the default matplotlib one, the return value\n",
       "    will be the object returned by the backend.\n",
       "\n",
       "Notes\n",
       "-----\n",
       "- See matplotlib documentation online for more on this subject\n",
       "- If `kind` = 'bar' or 'barh', you can specify relative alignments\n",
       "  for bar plot layout by `position` keyword.\n",
       "  From 0 (left/bottom-end) to 1 (right/top-end). Default is 0.5\n",
       "  (center)\n"
      ]
     },
     "metadata": {},
     "output_type": "display_data"
    }
   ],
   "source": [
    "ind_data.plot?"
   ]
  },
  {
   "cell_type": "code",
   "execution_count": 13,
   "metadata": {},
   "outputs": [
    {
     "data": {
      "text/plain": [
       "<AxesSubplot:title={'center':'India Delta'}>"
      ]
     },
     "execution_count": 13,
     "metadata": {},
     "output_type": "execute_result"
    },
    {
     "data": {
      "image/png": "[encoded data removed]",
      "text/plain": [
       "<Figure size 1080x432 with 1 Axes>"
      ]
     },
     "metadata": {
      "needs_background": "light"
     },
     "output_type": "display_data"
    }
   ],
   "source": [
    "%matplotlib inline\n",
    "ind_data[['delta.vaccinated1', 'delta.vaccinated2', 'delta.confirmed', 'delta.tested']].plot(legend=True, figsize=(15, 6), title=\"India Delta\")"
   ]
  },
  {
   "cell_type": "code",
   "execution_count": 14,
   "metadata": {},
   "outputs": [
    {
     "name": "stderr",
     "output_type": "stream",
     "text": [
      "src/consumer/api_consumer.py:167: UserWarning: Data is up-to-date. Using local files.\n",
      "  warnings.warn(\"Data is up-to-date. Using local files.\")\n"
     ]
    }
   ],
   "source": [
    "ka_data = dl.get_all_timeseries()['KA']"
   ]
  },
  {
   "cell_type": "code",
   "execution_count": 15,
   "metadata": {},
   "outputs": [
    {
     "data": {
      "application/vnd.jupyter.widget-view+json": {
       "model_id": "1ade4601afd947d58a65deeeae95f53a",
       "version_major": 2,
       "version_minor": 0
      },
      "text/plain": [
       "Canvas(toolbar=Toolbar(toolitems=[('Home', 'Reset original view', 'home', 'home'), ('Back', 'Back to previous …"
      ]
     },
     "metadata": {},
     "output_type": "display_data"
    },
    {
     "data": {
      "text/plain": [
       "<AxesSubplot:title={'center':'KA Delta'}>"
      ]
     },
     "execution_count": 15,
     "metadata": {},
     "output_type": "execute_result"
    }
   ],
   "source": [
    "%matplotlib widget\n",
    "ka_data[['delta.vaccinated1', 'delta.vaccinated2', 'delta.confirmed', 'delta.tested']].plot(legend=True, figsize=(15, 6), title=\"KA Delta\")"
   ]
  },
  {
   "cell_type": "code",
   "execution_count": null,
   "metadata": {},
   "outputs": [],
   "source": []
  }
 ],
 "metadata": {
  "kernelspec": {
   "display_name": "Python 3 (ipykernel)",
   "language": "python",
   "name": "python3"
  },
  "language_info": {
   "codemirror_mode": {
    "name": "ipython",
    "version": 3
   },
   "file_extension": ".py",
   "mimetype": "text/x-python",
   "name": "python",
   "nbconvert_exporter": "python",
   "pygments_lexer": "ipython3",
   "version": "3.8.8"
  }
 },
 "nbformat": 4,
 "nbformat_minor": 4
}
